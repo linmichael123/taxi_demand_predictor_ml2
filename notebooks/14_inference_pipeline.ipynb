{
 "cells": [
  {
   "cell_type": "code",
   "execution_count": 1,
   "metadata": {},
   "outputs": [],
   "source": [
    "%load_ext autoreload\n",
    "%autoreload 2"
   ]
  },
  {
   "cell_type": "code",
   "execution_count": 2,
   "metadata": {},
   "outputs": [
    {
     "name": "stdout",
     "output_type": "stream",
     "text": [
      "Connected. Call `.close()` to terminate connection gracefully.\n",
      "\n",
      "Logged in to project, explore it here https://c.app.hopsworks.ai:443/p/423065\n",
      "Connected. Call `.close()` to terminate connection gracefully.\n"
     ]
    },
    {
     "name": "stderr",
     "output_type": "stream",
     "text": [
      "UserWarning: Could not establish connection to ArrowFlight Server. (Set changed size during iteration. Detail: Python exception: RuntimeError) Will fall back to hive/spark for this session. If the error persists, you can disable using ArrowFlight by changing the cluster configuration (set 'enable_flyingduck'='false').\n"
     ]
    },
    {
     "name": "stdout",
     "output_type": "stream",
     "text": [
      "Finished: Reading data from Hopsworks, using Hive (274.43s) \n",
      "                pickup_hour  rides  pickup_location_id\n",
      "0       2023-02-24 19:00:00      0                 200\n",
      "1       2023-10-07 07:00:00      1                  80\n",
      "2       2023-05-16 14:00:00      6                 244\n",
      "3       2023-04-13 17:00:00      0                 194\n",
      "4       2023-04-12 10:00:00      0                 223\n",
      "...                     ...    ...                 ...\n",
      "2511400 2023-01-13 08:00:00      9                 261\n",
      "2511401 2023-04-26 20:00:00      0                  86\n",
      "2511402 2023-07-30 00:00:00      1                  74\n",
      "2511403 2023-09-22 18:00:00      0                 191\n",
      "2511404 2023-06-11 16:00:00      0                  81\n",
      "\n",
      "[2511405 rows x 3 columns]\n"
     ]
    }
   ],
   "source": [
    "import hopsworks\n",
    "import src.config as config\n",
    "from src.feature_store_api import get_feature_store, get_or_create_feature_view\n",
    "from src.config import FEATURE_VIEW_METADATA\n",
    "from src.data import add_missing_slots\n",
    "from src.inference import load_batch_of_features_from_store\n",
    "from datetime import datetime, timedelta\n",
    "import pandas as pd\n",
    "from src.config import FEATURE_GROUP_NAME\n",
    "from src.config import FEATURE_GROUP_VERSION\n",
    "\n",
    "# # connect to the project\n",
    "# project = hopsworks.login(\n",
    "#     project=config.HOPSWORKS_PROJECT_NAME,\n",
    "#     api_key_value=config.HOPSWORKS_API_KEY\n",
    "# )\n",
    "\n",
    "# # connect to the feature store\n",
    "# feature_store = project.get_feature_store()\n",
    "\n",
    "# # connect to the feature group\n",
    "# feature_group = feature_store.get_feature_group(\n",
    "#     name=FEATURE_GROUP_NAME,\n",
    "#     version=FEATURE_GROUP_VERSION\n",
    "# )\n",
    "\n",
    "# # read the feature group data\n",
    "# feature_group_data = feature_group.read()\n",
    "\n",
    "# # print the data\n",
    "# print(feature_group_data)\n"
   ]
  },
  {
   "cell_type": "code",
   "execution_count": 4,
   "metadata": {},
   "outputs": [
    {
     "data": {
      "text/plain": [
       "pickup_hour           datetime64[ns]\n",
       "rides                          int64\n",
       "pickup_location_id             int64\n",
       "dtype: object"
      ]
     },
     "execution_count": 4,
     "metadata": {},
     "output_type": "execute_result"
    }
   ],
   "source": [
    "# feature_group_data.dtypes"
   ]
  },
  {
   "cell_type": "code",
   "execution_count": 12,
   "metadata": {},
   "outputs": [],
   "source": [
    "# feature_group_data\n",
    "\n",
    "# # Convert current_date, fetch_data_from, and fetch_data_to to UTC and floor to the nearest hour\n",
    "# current_date = pd.to_datetime(datetime.utcnow(), utc=True).floor('H')\n",
    "# fetch_data_from = current_date - pd.Timedelta(days=28)\n",
    "# fetch_data_to = current_date - pd.Timedelta(hours=1)\n",
    "\n",
    "# # Filter feature_group_data based on pickup_hour\n",
    "# if feature_group_data.pickup_hour.dt.tz is None:\n",
    "#     feature_group_data.pickup_hour = feature_group_data.pickup_hour.dt.tz_localize('UTC')\n",
    "# filtered_data = feature_group_data[feature_group_data.pickup_hour.between(fetch_data_from,fetch_data_to)]"
   ]
  },
  {
   "cell_type": "code",
   "execution_count": 13,
   "metadata": {},
   "outputs": [
    {
     "name": "stdout",
     "output_type": "stream",
     "text": [
      "2024-02-03 03:00:00+00:00\n",
      "2024-03-02 02:00:00+00:00\n"
     ]
    }
   ],
   "source": [
    "# print(filtered_data.pickup_hour.min())\n",
    "# print(filtered_data.pickup_hour.max())"
   ]
  },
  {
   "cell_type": "code",
   "execution_count": 1,
   "metadata": {},
   "outputs": [
    {
     "name": "stdout",
     "output_type": "stream",
     "text": [
      "current_date=Timestamp('2024-03-02 03:00:00+0000', tz='UTC')\n",
      "Connected. Call `.close()` to terminate connection gracefully.\n",
      "\n",
      "Logged in to project, explore it here https://c.app.hopsworks.ai:443/p/423065\n",
      "Connected. Call `.close()` to terminate connection gracefully.\n",
      "2024-03-01 19:39:02,436 INFO: Feature view already exists, skipping creation.\n",
      "Connection closed.\n",
      "Connected. Call `.close()` to terminate connection gracefully.\n",
      "\n",
      "Logged in to project, explore it here https://c.app.hopsworks.ai:443/p/423065\n",
      "Connected. Call `.close()` to terminate connection gracefully.\n",
      "Finished: Reading data from Hopsworks, using ArrowFlight (7.13s) \n"
     ]
    }
   ],
   "source": [
    "\n",
    "import src.config as config\n",
    "from src.feature_store_api import get_feature_store, get_or_create_feature_view\n",
    "from src.config import FEATURE_VIEW_METADATA\n",
    "from src.data import add_missing_slots\n",
    "from src.inference import load_batch_of_features_from_store\n",
    "from datetime import datetime, timedelta\n",
    "import pandas as pd\n",
    "\n",
    "\n",
    "current_date = pd.to_datetime(datetime.utcnow(), utc=True).floor('H')\n",
    "print(f'{current_date=}')\n",
    "\n",
    "# feature_view = get_or_create_feature_view(FEATURE_VIEW_METADATA)\n",
    "\n",
    "# # fetch data from the feature store\n",
    "# fetch_data_from = current_date - timedelta(days=28)\n",
    "# fetch_data_to = current_date - timedelta(hours=1)\n",
    "\n",
    "# # add plus minus margin to make sure we do not drop any observation\n",
    "# ts_data = feature_view.get_batch_data(\n",
    "#     start_time=fetch_data_from - timedelta(days=1),\n",
    "#     end_time=fetch_data_to + timedelta(days=1)\n",
    "# )\n",
    "\n",
    "# if ts_data.pickup_hour.dt.tz is None:\n",
    "#     ts_data.pickup_hour = ts_data.pickup_hour.dt.tz_localize('UTC')\n",
    "# ts_data = ts_data[ts_data.pickup_hour.between(fetch_data_from,fetch_data_to)]\n",
    "\n",
    "# # ts_data = add_missing_slots(ts_data)\n",
    "\n",
    "# # filter data to the time period we are interested in\n",
    "# # ts_data = add_missing_slots(ts_data)\n",
    "\n",
    "# # sort data by location and time\n",
    "# ts_data.sort_values(by=['pickup_location_id', 'pickup_hour'], inplace=True)"
   ]
  },
  {
   "cell_type": "code",
   "execution_count": 2,
   "metadata": {},
   "outputs": [
    {
     "name": "stdout",
     "output_type": "stream",
     "text": [
      "2024-02-03 03:00:00+00:00\n",
      "2024-03-02 02:00:00+00:00\n"
     ]
    }
   ],
   "source": [
    "# print(ts_data.pickup_hour.min())\n",
    "# print(ts_data.pickup_hour.max())\n",
    "# print(len(ts_data.pickup_hour.unique()))\n",
    "# print(len(ts_data.pickup_location_id.unique()))"
   ]
  },
  {
   "cell_type": "code",
   "execution_count": null,
   "metadata": {},
   "outputs": [
    {
     "name": "stdout",
     "output_type": "stream",
     "text": [
      "Connection closed.\n",
      "Connected. Call `.close()` to terminate connection gracefully.\n",
      "\n",
      "Logged in to project, explore it here https://c.app.hopsworks.ai:443/p/423065\n",
      "Connected. Call `.close()` to terminate connection gracefully.\n",
      "2024-02-28 23:38:12,515 INFO: Feature view already exists, skipping creation.\n",
      "Connection closed.\n",
      "Connected. Call `.close()` to terminate connection gracefully.\n",
      "\n",
      "Logged in to project, explore it here https://c.app.hopsworks.ai:443/p/423065\n",
      "Connected. Call `.close()` to terminate connection gracefully.\n",
      "Finished: Reading data from Hopsworks, using ArrowFlight (5.35s) \n"
     ]
    }
   ],
   "source": [
    "features = load_batch_of_features_from_store(current_date)"
   ]
  },
  {
   "cell_type": "code",
   "execution_count": null,
   "metadata": {},
   "outputs": [
    {
     "name": "stdout",
     "output_type": "stream",
     "text": [
      "Connection closed.\n",
      "Connected. Call `.close()` to terminate connection gracefully.\n",
      "\n",
      "Logged in to project, explore it here https://c.app.hopsworks.ai:443/p/423065\n",
      "Connected. Call `.close()` to terminate connection gracefully.\n",
      "Downloading file ... [LightGBM] [Warning] feature_fraction is set=0.5535453243593246, colsample_bytree=1.0 will be ignored. Current value: feature_fraction=0.5535453243593246\n",
      "[LightGBM] [Warning] bagging_fraction is set=0.24794648125877955, subsample=1.0 will be ignored. Current value: bagging_fraction=0.24794648125877955\n"
     ]
    },
    {
     "name": "stderr",
     "output_type": "stream",
     "text": [
      "DeprecationWarning: np.find_common_type is deprecated.  Please use `np.result_type` or `np.promote_types`.\n",
      "See https://numpy.org/devdocs/release/1.25.0-notes.html and the docs for more information.  (Deprecated NumPy 1.25)\n"
     ]
    }
   ],
   "source": [
    "from src.inference import (\n",
    "    load_model_from_registry,\n",
    "    get_model_predictions\n",
    ")\n",
    "\n",
    "model = load_model_from_registry()\n",
    "predictions = get_model_predictions(model, features)"
   ]
  },
  {
   "cell_type": "code",
   "execution_count": null,
   "metadata": {},
   "outputs": [
    {
     "data": {
      "text/html": [
       "<div>\n",
       "<style scoped>\n",
       "    .dataframe tbody tr th:only-of-type {\n",
       "        vertical-align: middle;\n",
       "    }\n",
       "\n",
       "    .dataframe tbody tr th {\n",
       "        vertical-align: top;\n",
       "    }\n",
       "\n",
       "    .dataframe thead th {\n",
       "        text-align: right;\n",
       "    }\n",
       "</style>\n",
       "<table border=\"1\" class=\"dataframe\">\n",
       "  <thead>\n",
       "    <tr style=\"text-align: right;\">\n",
       "      <th></th>\n",
       "      <th>pickup_location_id</th>\n",
       "      <th>predicted_demand</th>\n",
       "      <th>pickup_hour</th>\n",
       "    </tr>\n",
       "  </thead>\n",
       "  <tbody>\n",
       "    <tr>\n",
       "      <th>0</th>\n",
       "      <td>1</td>\n",
       "      <td>24.0</td>\n",
       "      <td>2024-02-29 07:00:00</td>\n",
       "    </tr>\n",
       "    <tr>\n",
       "      <th>1</th>\n",
       "      <td>2</td>\n",
       "      <td>19.0</td>\n",
       "      <td>2024-02-29 07:00:00</td>\n",
       "    </tr>\n",
       "    <tr>\n",
       "      <th>2</th>\n",
       "      <td>3</td>\n",
       "      <td>19.0</td>\n",
       "      <td>2024-02-29 07:00:00</td>\n",
       "    </tr>\n",
       "    <tr>\n",
       "      <th>3</th>\n",
       "      <td>4</td>\n",
       "      <td>22.0</td>\n",
       "      <td>2024-02-29 07:00:00</td>\n",
       "    </tr>\n",
       "    <tr>\n",
       "      <th>4</th>\n",
       "      <td>5</td>\n",
       "      <td>19.0</td>\n",
       "      <td>2024-02-29 07:00:00</td>\n",
       "    </tr>\n",
       "    <tr>\n",
       "      <th>...</th>\n",
       "      <td>...</td>\n",
       "      <td>...</td>\n",
       "      <td>...</td>\n",
       "    </tr>\n",
       "    <tr>\n",
       "      <th>260</th>\n",
       "      <td>261</td>\n",
       "      <td>20.0</td>\n",
       "      <td>2024-02-29 07:00:00</td>\n",
       "    </tr>\n",
       "    <tr>\n",
       "      <th>261</th>\n",
       "      <td>262</td>\n",
       "      <td>9.0</td>\n",
       "      <td>2024-02-29 07:00:00</td>\n",
       "    </tr>\n",
       "    <tr>\n",
       "      <th>262</th>\n",
       "      <td>263</td>\n",
       "      <td>12.0</td>\n",
       "      <td>2024-02-29 07:00:00</td>\n",
       "    </tr>\n",
       "    <tr>\n",
       "      <th>263</th>\n",
       "      <td>264</td>\n",
       "      <td>15.0</td>\n",
       "      <td>2024-02-29 07:00:00</td>\n",
       "    </tr>\n",
       "    <tr>\n",
       "      <th>264</th>\n",
       "      <td>265</td>\n",
       "      <td>15.0</td>\n",
       "      <td>2024-02-29 07:00:00</td>\n",
       "    </tr>\n",
       "  </tbody>\n",
       "</table>\n",
       "<p>265 rows × 3 columns</p>\n",
       "</div>"
      ],
      "text/plain": [
       "     pickup_location_id  predicted_demand         pickup_hour\n",
       "0                     1              24.0 2024-02-29 07:00:00\n",
       "1                     2              19.0 2024-02-29 07:00:00\n",
       "2                     3              19.0 2024-02-29 07:00:00\n",
       "3                     4              22.0 2024-02-29 07:00:00\n",
       "4                     5              19.0 2024-02-29 07:00:00\n",
       "..                  ...               ...                 ...\n",
       "260                 261              20.0 2024-02-29 07:00:00\n",
       "261                 262               9.0 2024-02-29 07:00:00\n",
       "262                 263              12.0 2024-02-29 07:00:00\n",
       "263                 264              15.0 2024-02-29 07:00:00\n",
       "264                 265              15.0 2024-02-29 07:00:00\n",
       "\n",
       "[265 rows x 3 columns]"
      ]
     },
     "execution_count": 12,
     "metadata": {},
     "output_type": "execute_result"
    }
   ],
   "source": [
    "predictions['pickup_hour'] = current_date\n",
    "predictions"
   ]
  },
  {
   "attachments": {},
   "cell_type": "markdown",
   "metadata": {},
   "source": [
    "### Save these predictions in the feature store, so they can be later consumed by our Streamlit app"
   ]
  },
  {
   "cell_type": "code",
   "execution_count": null,
   "metadata": {},
   "outputs": [
    {
     "name": "stdout",
     "output_type": "stream",
     "text": [
      "Connection closed.\n",
      "Connected. Call `.close()` to terminate connection gracefully.\n",
      "\n",
      "Logged in to project, explore it here https://c.app.hopsworks.ai:443/p/423065\n",
      "Connected. Call `.close()` to terminate connection gracefully.\n"
     ]
    }
   ],
   "source": [
    "from src.feature_store_api import get_feature_store\n",
    "import src.config as config\n",
    "\n",
    "# connect to the feature group\n",
    "feature_group = get_feature_store().get_or_create_feature_group(\n",
    "    name=config.FEATURE_GROUP_MODEL_PREDICTIONS,\n",
    "    version=1,\n",
    "    description=\"Predictions generate by our production model\",\n",
    "    primary_key = ['pickup_location_id', 'pickup_hour'],\n",
    "    event_time='pickup_hour',\n",
    ")"
   ]
  },
  {
   "cell_type": "code",
   "execution_count": null,
   "metadata": {},
   "outputs": [
    {
     "data": {
      "application/vnd.jupyter.widget-view+json": {
       "model_id": "973eb491508549f29c1c51f14e858e27",
       "version_major": 2,
       "version_minor": 0
      },
      "text/plain": [
       "Uploading Dataframe: 0.00% |          | Rows 0/265 | Elapsed Time: 00:00 | Remaining Time: ?"
      ]
     },
     "metadata": {},
     "output_type": "display_data"
    },
    {
     "name": "stdout",
     "output_type": "stream",
     "text": [
      "Launching job: model_predictions_feature_group_1_offline_fg_materialization\n",
      "Job started successfully, you can follow the progress at \n",
      "https://c.app.hopsworks.ai/p/423065/jobs/named/model_predictions_feature_group_1_offline_fg_materialization/executions\n"
     ]
    },
    {
     "data": {
      "text/plain": [
       "(<hsfs.core.job.Job at 0x202db404b20>, None)"
      ]
     },
     "execution_count": 14,
     "metadata": {},
     "output_type": "execute_result"
    }
   ],
   "source": [
    "feature_group.insert(predictions, write_options={\"wait_for_job\": True})"
   ]
  },
  {
   "cell_type": "code",
   "execution_count": null,
   "metadata": {},
   "outputs": [],
   "source": []
  }
 ],
 "metadata": {
  "kernelspec": {
   "display_name": ".venv",
   "language": "python",
   "name": "python3"
  },
  "language_info": {
   "codemirror_mode": {
    "name": "ipython",
    "version": 3
   },
   "file_extension": ".py",
   "mimetype": "text/x-python",
   "name": "python",
   "nbconvert_exporter": "python",
   "pygments_lexer": "ipython3",
   "version": "3.9.0"
  },
  "orig_nbformat": 4,
  "vscode": {
   "interpreter": {
    "hash": "b98d97558a062384a76b0309256306c9ce5dd4e2074fe66c33532239207fc923"
   }
  }
 },
 "nbformat": 4,
 "nbformat_minor": 2
}
