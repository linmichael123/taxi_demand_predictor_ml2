{
 "cells": [
  {
   "cell_type": "code",
   "execution_count": 1,
   "metadata": {},
   "outputs": [],
   "source": [
    "import warnings\n",
    "warnings.filterwarnings(\"ignore\")"
   ]
  },
  {
   "cell_type": "code",
   "execution_count": 2,
   "metadata": {},
   "outputs": [
    {
     "data": {
      "text/html": [
       "<div>\n",
       "<style scoped>\n",
       "    .dataframe tbody tr th:only-of-type {\n",
       "        vertical-align: middle;\n",
       "    }\n",
       "\n",
       "    .dataframe tbody tr th {\n",
       "        vertical-align: top;\n",
       "    }\n",
       "\n",
       "    .dataframe thead th {\n",
       "        text-align: right;\n",
       "    }\n",
       "</style>\n",
       "<table border=\"1\" class=\"dataframe\">\n",
       "  <thead>\n",
       "    <tr style=\"text-align: right;\">\n",
       "      <th></th>\n",
       "      <th>rides_previous_672_hour</th>\n",
       "      <th>rides_previous_671_hour</th>\n",
       "      <th>rides_previous_670_hour</th>\n",
       "      <th>rides_previous_669_hour</th>\n",
       "      <th>rides_previous_668_hour</th>\n",
       "      <th>rides_previous_667_hour</th>\n",
       "      <th>rides_previous_666_hour</th>\n",
       "      <th>rides_previous_665_hour</th>\n",
       "      <th>rides_previous_664_hour</th>\n",
       "      <th>rides_previous_663_hour</th>\n",
       "      <th>...</th>\n",
       "      <th>rides_previous_7_hour</th>\n",
       "      <th>rides_previous_6_hour</th>\n",
       "      <th>rides_previous_5_hour</th>\n",
       "      <th>rides_previous_4_hour</th>\n",
       "      <th>rides_previous_3_hour</th>\n",
       "      <th>rides_previous_2_hour</th>\n",
       "      <th>rides_previous_1_hour</th>\n",
       "      <th>pickup_hour</th>\n",
       "      <th>pickup_location_id</th>\n",
       "      <th>target_rides_next_hour</th>\n",
       "    </tr>\n",
       "  </thead>\n",
       "  <tbody>\n",
       "    <tr>\n",
       "      <th>0</th>\n",
       "      <td>19.0</td>\n",
       "      <td>28.0</td>\n",
       "      <td>43.0</td>\n",
       "      <td>33.0</td>\n",
       "      <td>12.0</td>\n",
       "      <td>3.0</td>\n",
       "      <td>2.0</td>\n",
       "      <td>1.0</td>\n",
       "      <td>1.0</td>\n",
       "      <td>1.0</td>\n",
       "      <td>...</td>\n",
       "      <td>5.0</td>\n",
       "      <td>5.0</td>\n",
       "      <td>7.0</td>\n",
       "      <td>5.0</td>\n",
       "      <td>8.0</td>\n",
       "      <td>15.0</td>\n",
       "      <td>26.0</td>\n",
       "      <td>2023-01-29</td>\n",
       "      <td>4</td>\n",
       "      <td>53.0</td>\n",
       "    </tr>\n",
       "    <tr>\n",
       "      <th>1</th>\n",
       "      <td>1.0</td>\n",
       "      <td>0.0</td>\n",
       "      <td>0.0</td>\n",
       "      <td>0.0</td>\n",
       "      <td>0.0</td>\n",
       "      <td>2.0</td>\n",
       "      <td>1.0</td>\n",
       "      <td>0.0</td>\n",
       "      <td>2.0</td>\n",
       "      <td>0.0</td>\n",
       "      <td>...</td>\n",
       "      <td>3.0</td>\n",
       "      <td>1.0</td>\n",
       "      <td>5.0</td>\n",
       "      <td>2.0</td>\n",
       "      <td>1.0</td>\n",
       "      <td>2.0</td>\n",
       "      <td>0.0</td>\n",
       "      <td>2023-01-30</td>\n",
       "      <td>4</td>\n",
       "      <td>2.0</td>\n",
       "    </tr>\n",
       "    <tr>\n",
       "      <th>2</th>\n",
       "      <td>2.0</td>\n",
       "      <td>0.0</td>\n",
       "      <td>0.0</td>\n",
       "      <td>0.0</td>\n",
       "      <td>0.0</td>\n",
       "      <td>0.0</td>\n",
       "      <td>3.0</td>\n",
       "      <td>5.0</td>\n",
       "      <td>2.0</td>\n",
       "      <td>3.0</td>\n",
       "      <td>...</td>\n",
       "      <td>2.0</td>\n",
       "      <td>1.0</td>\n",
       "      <td>1.0</td>\n",
       "      <td>1.0</td>\n",
       "      <td>0.0</td>\n",
       "      <td>0.0</td>\n",
       "      <td>2.0</td>\n",
       "      <td>2023-01-31</td>\n",
       "      <td>4</td>\n",
       "      <td>0.0</td>\n",
       "    </tr>\n",
       "    <tr>\n",
       "      <th>3</th>\n",
       "      <td>3.0</td>\n",
       "      <td>1.0</td>\n",
       "      <td>0.0</td>\n",
       "      <td>0.0</td>\n",
       "      <td>0.0</td>\n",
       "      <td>0.0</td>\n",
       "      <td>1.0</td>\n",
       "      <td>2.0</td>\n",
       "      <td>6.0</td>\n",
       "      <td>2.0</td>\n",
       "      <td>...</td>\n",
       "      <td>3.0</td>\n",
       "      <td>2.0</td>\n",
       "      <td>2.0</td>\n",
       "      <td>1.0</td>\n",
       "      <td>4.0</td>\n",
       "      <td>7.0</td>\n",
       "      <td>7.0</td>\n",
       "      <td>2023-02-01</td>\n",
       "      <td>4</td>\n",
       "      <td>4.0</td>\n",
       "    </tr>\n",
       "    <tr>\n",
       "      <th>4</th>\n",
       "      <td>0.0</td>\n",
       "      <td>2.0</td>\n",
       "      <td>0.0</td>\n",
       "      <td>1.0</td>\n",
       "      <td>1.0</td>\n",
       "      <td>1.0</td>\n",
       "      <td>3.0</td>\n",
       "      <td>1.0</td>\n",
       "      <td>9.0</td>\n",
       "      <td>3.0</td>\n",
       "      <td>...</td>\n",
       "      <td>3.0</td>\n",
       "      <td>5.0</td>\n",
       "      <td>7.0</td>\n",
       "      <td>5.0</td>\n",
       "      <td>3.0</td>\n",
       "      <td>7.0</td>\n",
       "      <td>4.0</td>\n",
       "      <td>2023-02-02</td>\n",
       "      <td>4</td>\n",
       "      <td>6.0</td>\n",
       "    </tr>\n",
       "    <tr>\n",
       "      <th>...</th>\n",
       "      <td>...</td>\n",
       "      <td>...</td>\n",
       "      <td>...</td>\n",
       "      <td>...</td>\n",
       "      <td>...</td>\n",
       "      <td>...</td>\n",
       "      <td>...</td>\n",
       "      <td>...</td>\n",
       "      <td>...</td>\n",
       "      <td>...</td>\n",
       "      <td>...</td>\n",
       "      <td>...</td>\n",
       "      <td>...</td>\n",
       "      <td>...</td>\n",
       "      <td>...</td>\n",
       "      <td>...</td>\n",
       "      <td>...</td>\n",
       "      <td>...</td>\n",
       "      <td>...</td>\n",
       "      <td>...</td>\n",
       "      <td>...</td>\n",
       "    </tr>\n",
       "    <tr>\n",
       "      <th>80167</th>\n",
       "      <td>0.0</td>\n",
       "      <td>0.0</td>\n",
       "      <td>0.0</td>\n",
       "      <td>0.0</td>\n",
       "      <td>0.0</td>\n",
       "      <td>0.0</td>\n",
       "      <td>0.0</td>\n",
       "      <td>0.0</td>\n",
       "      <td>0.0</td>\n",
       "      <td>0.0</td>\n",
       "      <td>...</td>\n",
       "      <td>0.0</td>\n",
       "      <td>0.0</td>\n",
       "      <td>0.0</td>\n",
       "      <td>0.0</td>\n",
       "      <td>0.0</td>\n",
       "      <td>0.0</td>\n",
       "      <td>0.0</td>\n",
       "      <td>2023-11-26</td>\n",
       "      <td>27</td>\n",
       "      <td>0.0</td>\n",
       "    </tr>\n",
       "    <tr>\n",
       "      <th>80168</th>\n",
       "      <td>0.0</td>\n",
       "      <td>0.0</td>\n",
       "      <td>0.0</td>\n",
       "      <td>0.0</td>\n",
       "      <td>0.0</td>\n",
       "      <td>0.0</td>\n",
       "      <td>0.0</td>\n",
       "      <td>0.0</td>\n",
       "      <td>0.0</td>\n",
       "      <td>0.0</td>\n",
       "      <td>...</td>\n",
       "      <td>0.0</td>\n",
       "      <td>0.0</td>\n",
       "      <td>0.0</td>\n",
       "      <td>0.0</td>\n",
       "      <td>0.0</td>\n",
       "      <td>0.0</td>\n",
       "      <td>0.0</td>\n",
       "      <td>2023-11-27</td>\n",
       "      <td>27</td>\n",
       "      <td>0.0</td>\n",
       "    </tr>\n",
       "    <tr>\n",
       "      <th>80169</th>\n",
       "      <td>0.0</td>\n",
       "      <td>0.0</td>\n",
       "      <td>0.0</td>\n",
       "      <td>0.0</td>\n",
       "      <td>0.0</td>\n",
       "      <td>0.0</td>\n",
       "      <td>0.0</td>\n",
       "      <td>0.0</td>\n",
       "      <td>0.0</td>\n",
       "      <td>0.0</td>\n",
       "      <td>...</td>\n",
       "      <td>0.0</td>\n",
       "      <td>0.0</td>\n",
       "      <td>0.0</td>\n",
       "      <td>0.0</td>\n",
       "      <td>0.0</td>\n",
       "      <td>0.0</td>\n",
       "      <td>0.0</td>\n",
       "      <td>2023-11-28</td>\n",
       "      <td>27</td>\n",
       "      <td>0.0</td>\n",
       "    </tr>\n",
       "    <tr>\n",
       "      <th>80170</th>\n",
       "      <td>0.0</td>\n",
       "      <td>0.0</td>\n",
       "      <td>0.0</td>\n",
       "      <td>0.0</td>\n",
       "      <td>0.0</td>\n",
       "      <td>0.0</td>\n",
       "      <td>0.0</td>\n",
       "      <td>0.0</td>\n",
       "      <td>0.0</td>\n",
       "      <td>0.0</td>\n",
       "      <td>...</td>\n",
       "      <td>0.0</td>\n",
       "      <td>0.0</td>\n",
       "      <td>0.0</td>\n",
       "      <td>0.0</td>\n",
       "      <td>0.0</td>\n",
       "      <td>0.0</td>\n",
       "      <td>0.0</td>\n",
       "      <td>2023-11-29</td>\n",
       "      <td>27</td>\n",
       "      <td>0.0</td>\n",
       "    </tr>\n",
       "    <tr>\n",
       "      <th>80171</th>\n",
       "      <td>0.0</td>\n",
       "      <td>0.0</td>\n",
       "      <td>0.0</td>\n",
       "      <td>0.0</td>\n",
       "      <td>0.0</td>\n",
       "      <td>0.0</td>\n",
       "      <td>0.0</td>\n",
       "      <td>0.0</td>\n",
       "      <td>0.0</td>\n",
       "      <td>0.0</td>\n",
       "      <td>...</td>\n",
       "      <td>0.0</td>\n",
       "      <td>0.0</td>\n",
       "      <td>0.0</td>\n",
       "      <td>0.0</td>\n",
       "      <td>0.0</td>\n",
       "      <td>0.0</td>\n",
       "      <td>0.0</td>\n",
       "      <td>2023-11-30</td>\n",
       "      <td>27</td>\n",
       "      <td>0.0</td>\n",
       "    </tr>\n",
       "  </tbody>\n",
       "</table>\n",
       "<p>80172 rows × 675 columns</p>\n",
       "</div>"
      ],
      "text/plain": [
       "       rides_previous_672_hour  rides_previous_671_hour  \\\n",
       "0                         19.0                     28.0   \n",
       "1                          1.0                      0.0   \n",
       "2                          2.0                      0.0   \n",
       "3                          3.0                      1.0   \n",
       "4                          0.0                      2.0   \n",
       "...                        ...                      ...   \n",
       "80167                      0.0                      0.0   \n",
       "80168                      0.0                      0.0   \n",
       "80169                      0.0                      0.0   \n",
       "80170                      0.0                      0.0   \n",
       "80171                      0.0                      0.0   \n",
       "\n",
       "       rides_previous_670_hour  rides_previous_669_hour  \\\n",
       "0                         43.0                     33.0   \n",
       "1                          0.0                      0.0   \n",
       "2                          0.0                      0.0   \n",
       "3                          0.0                      0.0   \n",
       "4                          0.0                      1.0   \n",
       "...                        ...                      ...   \n",
       "80167                      0.0                      0.0   \n",
       "80168                      0.0                      0.0   \n",
       "80169                      0.0                      0.0   \n",
       "80170                      0.0                      0.0   \n",
       "80171                      0.0                      0.0   \n",
       "\n",
       "       rides_previous_668_hour  rides_previous_667_hour  \\\n",
       "0                         12.0                      3.0   \n",
       "1                          0.0                      2.0   \n",
       "2                          0.0                      0.0   \n",
       "3                          0.0                      0.0   \n",
       "4                          1.0                      1.0   \n",
       "...                        ...                      ...   \n",
       "80167                      0.0                      0.0   \n",
       "80168                      0.0                      0.0   \n",
       "80169                      0.0                      0.0   \n",
       "80170                      0.0                      0.0   \n",
       "80171                      0.0                      0.0   \n",
       "\n",
       "       rides_previous_666_hour  rides_previous_665_hour  \\\n",
       "0                          2.0                      1.0   \n",
       "1                          1.0                      0.0   \n",
       "2                          3.0                      5.0   \n",
       "3                          1.0                      2.0   \n",
       "4                          3.0                      1.0   \n",
       "...                        ...                      ...   \n",
       "80167                      0.0                      0.0   \n",
       "80168                      0.0                      0.0   \n",
       "80169                      0.0                      0.0   \n",
       "80170                      0.0                      0.0   \n",
       "80171                      0.0                      0.0   \n",
       "\n",
       "       rides_previous_664_hour  rides_previous_663_hour  ...  \\\n",
       "0                          1.0                      1.0  ...   \n",
       "1                          2.0                      0.0  ...   \n",
       "2                          2.0                      3.0  ...   \n",
       "3                          6.0                      2.0  ...   \n",
       "4                          9.0                      3.0  ...   \n",
       "...                        ...                      ...  ...   \n",
       "80167                      0.0                      0.0  ...   \n",
       "80168                      0.0                      0.0  ...   \n",
       "80169                      0.0                      0.0  ...   \n",
       "80170                      0.0                      0.0  ...   \n",
       "80171                      0.0                      0.0  ...   \n",
       "\n",
       "       rides_previous_7_hour  rides_previous_6_hour  rides_previous_5_hour  \\\n",
       "0                        5.0                    5.0                    7.0   \n",
       "1                        3.0                    1.0                    5.0   \n",
       "2                        2.0                    1.0                    1.0   \n",
       "3                        3.0                    2.0                    2.0   \n",
       "4                        3.0                    5.0                    7.0   \n",
       "...                      ...                    ...                    ...   \n",
       "80167                    0.0                    0.0                    0.0   \n",
       "80168                    0.0                    0.0                    0.0   \n",
       "80169                    0.0                    0.0                    0.0   \n",
       "80170                    0.0                    0.0                    0.0   \n",
       "80171                    0.0                    0.0                    0.0   \n",
       "\n",
       "       rides_previous_4_hour  rides_previous_3_hour  rides_previous_2_hour  \\\n",
       "0                        5.0                    8.0                   15.0   \n",
       "1                        2.0                    1.0                    2.0   \n",
       "2                        1.0                    0.0                    0.0   \n",
       "3                        1.0                    4.0                    7.0   \n",
       "4                        5.0                    3.0                    7.0   \n",
       "...                      ...                    ...                    ...   \n",
       "80167                    0.0                    0.0                    0.0   \n",
       "80168                    0.0                    0.0                    0.0   \n",
       "80169                    0.0                    0.0                    0.0   \n",
       "80170                    0.0                    0.0                    0.0   \n",
       "80171                    0.0                    0.0                    0.0   \n",
       "\n",
       "       rides_previous_1_hour  pickup_hour  pickup_location_id  \\\n",
       "0                       26.0   2023-01-29                   4   \n",
       "1                        0.0   2023-01-30                   4   \n",
       "2                        2.0   2023-01-31                   4   \n",
       "3                        7.0   2023-02-01                   4   \n",
       "4                        4.0   2023-02-02                   4   \n",
       "...                      ...          ...                 ...   \n",
       "80167                    0.0   2023-11-26                  27   \n",
       "80168                    0.0   2023-11-27                  27   \n",
       "80169                    0.0   2023-11-28                  27   \n",
       "80170                    0.0   2023-11-29                  27   \n",
       "80171                    0.0   2023-11-30                  27   \n",
       "\n",
       "       target_rides_next_hour  \n",
       "0                        53.0  \n",
       "1                         2.0  \n",
       "2                         0.0  \n",
       "3                         4.0  \n",
       "4                         6.0  \n",
       "...                       ...  \n",
       "80167                     0.0  \n",
       "80168                     0.0  \n",
       "80169                     0.0  \n",
       "80170                     0.0  \n",
       "80171                     0.0  \n",
       "\n",
       "[80172 rows x 675 columns]"
      ]
     },
     "execution_count": 2,
     "metadata": {},
     "output_type": "execute_result"
    }
   ],
   "source": [
    "import pandas as pd\n",
    "from src.paths import TRANSFORMED_DATA_DIR\n",
    "\n",
    "df = pd.read_parquet(TRANSFORMED_DATA_DIR / 'tabular_data.parquet')\n",
    "\n",
    "df"
   ]
  },
  {
   "cell_type": "code",
   "execution_count": 3,
   "metadata": {},
   "outputs": [
    {
     "name": "stdout",
     "output_type": "stream",
     "text": [
      "X_train.shape=(32226, 674)\n",
      "y_train.shape=(32226,)\n",
      "X_test.shape=(47946, 674)\n",
      "X_test.shape=(47946, 674)\n"
     ]
    }
   ],
   "source": [
    "from datetime import datetime\n",
    "from src.data_split import train_test_split\n",
    "\n",
    "X_train, y_train, X_test, y_test = train_test_split(\n",
    "    df,\n",
    "    cutoff_date=datetime(2023,6,1,0,0,0),\n",
    "    target_column_name='target_rides_next_hour'\n",
    ")\n",
    "\n",
    "print(f'{X_train.shape=}')\n",
    "print(f'{y_train.shape=}')\n",
    "print(f'{X_test.shape=}')\n",
    "print(f'{X_test.shape=}')"
   ]
  },
  {
   "cell_type": "code",
   "execution_count": 8,
   "metadata": {},
   "outputs": [],
   "source": [
    "import numpy as np\n",
    "from sklearn.model_selection import KFold, TimeSeriesSplit\n",
    "from sklearn.pipeline import make_pipeline\n",
    "from sklearn.metrics import mean_absolute_error\n",
    "import optuna\n",
    "\n",
    "from src.model import get_pipeline\n",
    "\n",
    "def objective(trial: optuna.trial.Trial) -> float:\n",
    "\n",
    "    hyperparams = {\n",
    "        \"metric\": 'mae',\n",
    "        \"verbose\": -1,\n",
    "        \"num_leaves\": trial.suggest_int(\"num_leaves\",2,256),\n",
    "        \"feature_fraction\": trial.suggest_float(\"feature_fraction\", 0.2, 1.0),\n",
    "        \"bagging_fraction\": trial.suggest_float(\"bagging_fraction\", 0.2, 1.0),\n",
    "        \"min_child_samples\": trial.suggest_int(\"min_child_samples\", 3, 100),\n",
    "    }\n",
    "\n",
    "    tss = TimeSeriesSplit(n_splits=4)\n",
    "    scores = []\n",
    "    for train_index, val_index in tss.split(X_train):\n",
    "        X_train_, X_val_ = X_train.iloc[train_index, :], X_train.iloc[val_index,:]\n",
    "        y_train_, y_val_ = y_train.iloc[train_index], y_train.iloc[val_index]\n",
    "\n",
    "        pipeline = get_pipeline(**hyperparams)\n",
    "        pipeline.fit(X_train_, y_train_)\n",
    "\n",
    "        y_pred = pipeline.predict(X_val_)\n",
    "        mae = mean_absolute_error(y_val_, y_pred)\n",
    "\n",
    "        scores.append(mae)\n",
    "\n",
    "    return np.array(scores).mean()"
   ]
  },
  {
   "cell_type": "code",
   "execution_count": 9,
   "metadata": {},
   "outputs": [
    {
     "name": "stderr",
     "output_type": "stream",
     "text": [
      "[I 2024-01-25 19:34:58,099] A new study created in memory with name: no-name-7411c68b-d96c-40e4-9cc7-5382bea532d3\n"
     ]
    },
    {
     "name": "stderr",
     "output_type": "stream",
     "text": [
      "[I 2024-01-25 19:35:13,246] Trial 0 finished with value: 1.647427571928798 and parameters: {'num_leaves': 128, 'feature_fraction': 0.6607250179413171, 'bagging_fraction': 0.2960390966420217, 'min_child_samples': 33}. Best is trial 0 with value: 1.647427571928798.\n",
      "[I 2024-01-25 19:35:23,492] Trial 1 finished with value: 1.6538534992358331 and parameters: {'num_leaves': 66, 'feature_fraction': 0.7127154725695302, 'bagging_fraction': 0.5701705001944466, 'min_child_samples': 45}. Best is trial 0 with value: 1.647427571928798.\n",
      "[I 2024-01-25 19:35:31,572] Trial 2 finished with value: 1.6390075388364562 and parameters: {'num_leaves': 53, 'feature_fraction': 0.5334617069046004, 'bagging_fraction': 0.5752941036329032, 'min_child_samples': 51}. Best is trial 2 with value: 1.6390075388364562.\n",
      "[I 2024-01-25 19:35:51,826] Trial 3 finished with value: 1.6579592985210714 and parameters: {'num_leaves': 239, 'feature_fraction': 0.8960538126845972, 'bagging_fraction': 0.6983112682912245, 'min_child_samples': 75}. Best is trial 2 with value: 1.6390075388364562.\n",
      "[I 2024-01-25 19:35:57,449] Trial 4 finished with value: 1.8007903078887013 and parameters: {'num_leaves': 42, 'feature_fraction': 0.259817557910478, 'bagging_fraction': 0.7633823572697038, 'min_child_samples': 61}. Best is trial 2 with value: 1.6390075388364562.\n"
     ]
    }
   ],
   "source": [
    "study = optuna.create_study(direction=\"minimize\")\n",
    "study.optimize(objective, n_trials=5)"
   ]
  },
  {
   "cell_type": "code",
   "execution_count": 11,
   "metadata": {},
   "outputs": [
    {
     "name": "stdout",
     "output_type": "stream",
     "text": [
      "best_params={'num_leaves': 53, 'feature_fraction': 0.5334617069046004, 'bagging_fraction': 0.5752941036329032, 'min_child_samples': 51}\n"
     ]
    }
   ],
   "source": [
    "best_params = study.best_trial.params\n",
    "print(f'{best_params=}')"
   ]
  },
  {
   "cell_type": "code",
   "execution_count": 12,
   "metadata": {},
   "outputs": [
    {
     "name": "stdout",
     "output_type": "stream",
     "text": [
      "[LightGBM] [Warning] feature_fraction is set=0.5334617069046004, colsample_bytree=1.0 will be ignored. Current value: feature_fraction=0.5334617069046004\n",
      "[LightGBM] [Warning] bagging_fraction is set=0.5752941036329032, subsample=1.0 will be ignored. Current value: bagging_fraction=0.5752941036329032\n",
      "[LightGBM] [Warning] feature_fraction is set=0.5334617069046004, colsample_bytree=1.0 will be ignored. Current value: feature_fraction=0.5334617069046004\n",
      "[LightGBM] [Warning] bagging_fraction is set=0.5752941036329032, subsample=1.0 will be ignored. Current value: bagging_fraction=0.5752941036329032\n",
      "[LightGBM] [Info] Auto-choosing col-wise multi-threading, the overhead of testing was 0.092471 seconds.\n",
      "You can set `force_col_wise=true` to remove the overhead.\n",
      "[LightGBM] [Info] Total Bins 156147\n",
      "[LightGBM] [Info] Number of data points in the train set: 32226, number of used features: 675\n",
      "[LightGBM] [Info] Start training from score 11.417923\n"
     ]
    },
    {
     "data": {
      "text/html": [
       "<style>#sk-container-id-1 {\n",
       "  /* Definition of color scheme common for light and dark mode */\n",
       "  --sklearn-color-text: black;\n",
       "  --sklearn-color-line: gray;\n",
       "  /* Definition of color scheme for unfitted estimators */\n",
       "  --sklearn-color-unfitted-level-0: #fff5e6;\n",
       "  --sklearn-color-unfitted-level-1: #f6e4d2;\n",
       "  --sklearn-color-unfitted-level-2: #ffe0b3;\n",
       "  --sklearn-color-unfitted-level-3: chocolate;\n",
       "  /* Definition of color scheme for fitted estimators */\n",
       "  --sklearn-color-fitted-level-0: #f0f8ff;\n",
       "  --sklearn-color-fitted-level-1: #d4ebff;\n",
       "  --sklearn-color-fitted-level-2: #b3dbfd;\n",
       "  --sklearn-color-fitted-level-3: cornflowerblue;\n",
       "\n",
       "  /* Specific color for light theme */\n",
       "  --sklearn-color-text-on-default-background: var(--sg-text-color, var(--theme-code-foreground, var(--jp-content-font-color1, black)));\n",
       "  --sklearn-color-background: var(--sg-background-color, var(--theme-background, var(--jp-layout-color0, white)));\n",
       "  --sklearn-color-border-box: var(--sg-text-color, var(--theme-code-foreground, var(--jp-content-font-color1, black)));\n",
       "  --sklearn-color-icon: #696969;\n",
       "\n",
       "  @media (prefers-color-scheme: dark) {\n",
       "    /* Redefinition of color scheme for dark theme */\n",
       "    --sklearn-color-text-on-default-background: var(--sg-text-color, var(--theme-code-foreground, var(--jp-content-font-color1, white)));\n",
       "    --sklearn-color-background: var(--sg-background-color, var(--theme-background, var(--jp-layout-color0, #111)));\n",
       "    --sklearn-color-border-box: var(--sg-text-color, var(--theme-code-foreground, var(--jp-content-font-color1, white)));\n",
       "    --sklearn-color-icon: #878787;\n",
       "  }\n",
       "}\n",
       "\n",
       "#sk-container-id-1 {\n",
       "  color: var(--sklearn-color-text);\n",
       "}\n",
       "\n",
       "#sk-container-id-1 pre {\n",
       "  padding: 0;\n",
       "}\n",
       "\n",
       "#sk-container-id-1 input.sk-hidden--visually {\n",
       "  border: 0;\n",
       "  clip: rect(1px 1px 1px 1px);\n",
       "  clip: rect(1px, 1px, 1px, 1px);\n",
       "  height: 1px;\n",
       "  margin: -1px;\n",
       "  overflow: hidden;\n",
       "  padding: 0;\n",
       "  position: absolute;\n",
       "  width: 1px;\n",
       "}\n",
       "\n",
       "#sk-container-id-1 div.sk-dashed-wrapped {\n",
       "  border: 1px dashed var(--sklearn-color-line);\n",
       "  margin: 0 0.4em 0.5em 0.4em;\n",
       "  box-sizing: border-box;\n",
       "  padding-bottom: 0.4em;\n",
       "  background-color: var(--sklearn-color-background);\n",
       "}\n",
       "\n",
       "#sk-container-id-1 div.sk-container {\n",
       "  /* jupyter's `normalize.less` sets `[hidden] { display: none; }`\n",
       "     but bootstrap.min.css set `[hidden] { display: none !important; }`\n",
       "     so we also need the `!important` here to be able to override the\n",
       "     default hidden behavior on the sphinx rendered scikit-learn.org.\n",
       "     See: https://github.com/scikit-learn/scikit-learn/issues/21755 */\n",
       "  display: inline-block !important;\n",
       "  position: relative;\n",
       "}\n",
       "\n",
       "#sk-container-id-1 div.sk-text-repr-fallback {\n",
       "  display: none;\n",
       "}\n",
       "\n",
       "div.sk-parallel-item,\n",
       "div.sk-serial,\n",
       "div.sk-item {\n",
       "  /* draw centered vertical line to link estimators */\n",
       "  background-image: linear-gradient(var(--sklearn-color-text-on-default-background), var(--sklearn-color-text-on-default-background));\n",
       "  background-size: 2px 100%;\n",
       "  background-repeat: no-repeat;\n",
       "  background-position: center center;\n",
       "}\n",
       "\n",
       "/* Parallel-specific style estimator block */\n",
       "\n",
       "#sk-container-id-1 div.sk-parallel-item::after {\n",
       "  content: \"\";\n",
       "  width: 100%;\n",
       "  border-bottom: 2px solid var(--sklearn-color-text-on-default-background);\n",
       "  flex-grow: 1;\n",
       "}\n",
       "\n",
       "#sk-container-id-1 div.sk-parallel {\n",
       "  display: flex;\n",
       "  align-items: stretch;\n",
       "  justify-content: center;\n",
       "  background-color: var(--sklearn-color-background);\n",
       "  position: relative;\n",
       "}\n",
       "\n",
       "#sk-container-id-1 div.sk-parallel-item {\n",
       "  display: flex;\n",
       "  flex-direction: column;\n",
       "}\n",
       "\n",
       "#sk-container-id-1 div.sk-parallel-item:first-child::after {\n",
       "  align-self: flex-end;\n",
       "  width: 50%;\n",
       "}\n",
       "\n",
       "#sk-container-id-1 div.sk-parallel-item:last-child::after {\n",
       "  align-self: flex-start;\n",
       "  width: 50%;\n",
       "}\n",
       "\n",
       "#sk-container-id-1 div.sk-parallel-item:only-child::after {\n",
       "  width: 0;\n",
       "}\n",
       "\n",
       "/* Serial-specific style estimator block */\n",
       "\n",
       "#sk-container-id-1 div.sk-serial {\n",
       "  display: flex;\n",
       "  flex-direction: column;\n",
       "  align-items: center;\n",
       "  background-color: var(--sklearn-color-background);\n",
       "  padding-right: 1em;\n",
       "  padding-left: 1em;\n",
       "}\n",
       "\n",
       "\n",
       "/* Toggleable style: style used for estimator/Pipeline/ColumnTransformer box that is\n",
       "clickable and can be expanded/collapsed.\n",
       "- Pipeline and ColumnTransformer use this feature and define the default style\n",
       "- Estimators will overwrite some part of the style using the `sk-estimator` class\n",
       "*/\n",
       "\n",
       "/* Pipeline and ColumnTransformer style (default) */\n",
       "\n",
       "#sk-container-id-1 div.sk-toggleable {\n",
       "  /* Default theme specific background. It is overwritten whether we have a\n",
       "  specific estimator or a Pipeline/ColumnTransformer */\n",
       "  background-color: var(--sklearn-color-background);\n",
       "}\n",
       "\n",
       "/* Toggleable label */\n",
       "#sk-container-id-1 label.sk-toggleable__label {\n",
       "  cursor: pointer;\n",
       "  display: block;\n",
       "  width: 100%;\n",
       "  margin-bottom: 0;\n",
       "  padding: 0.5em;\n",
       "  box-sizing: border-box;\n",
       "  text-align: center;\n",
       "}\n",
       "\n",
       "#sk-container-id-1 label.sk-toggleable__label-arrow:before {\n",
       "  /* Arrow on the left of the label */\n",
       "  content: \"▸\";\n",
       "  float: left;\n",
       "  margin-right: 0.25em;\n",
       "  color: var(--sklearn-color-icon);\n",
       "}\n",
       "\n",
       "#sk-container-id-1 label.sk-toggleable__label-arrow:hover:before {\n",
       "  color: var(--sklearn-color-text);\n",
       "}\n",
       "\n",
       "/* Toggleable content - dropdown */\n",
       "\n",
       "#sk-container-id-1 div.sk-toggleable__content {\n",
       "  max-height: 0;\n",
       "  max-width: 0;\n",
       "  overflow: hidden;\n",
       "  text-align: left;\n",
       "  /* unfitted */\n",
       "  background-color: var(--sklearn-color-unfitted-level-0);\n",
       "}\n",
       "\n",
       "#sk-container-id-1 div.sk-toggleable__content.fitted {\n",
       "  /* fitted */\n",
       "  background-color: var(--sklearn-color-fitted-level-0);\n",
       "}\n",
       "\n",
       "#sk-container-id-1 div.sk-toggleable__content pre {\n",
       "  margin: 0.2em;\n",
       "  border-radius: 0.25em;\n",
       "  color: var(--sklearn-color-text);\n",
       "  /* unfitted */\n",
       "  background-color: var(--sklearn-color-unfitted-level-0);\n",
       "}\n",
       "\n",
       "#sk-container-id-1 div.sk-toggleable__content.fitted pre {\n",
       "  /* unfitted */\n",
       "  background-color: var(--sklearn-color-fitted-level-0);\n",
       "}\n",
       "\n",
       "#sk-container-id-1 input.sk-toggleable__control:checked~div.sk-toggleable__content {\n",
       "  /* Expand drop-down */\n",
       "  max-height: 200px;\n",
       "  max-width: 100%;\n",
       "  overflow: auto;\n",
       "}\n",
       "\n",
       "#sk-container-id-1 input.sk-toggleable__control:checked~label.sk-toggleable__label-arrow:before {\n",
       "  content: \"▾\";\n",
       "}\n",
       "\n",
       "/* Pipeline/ColumnTransformer-specific style */\n",
       "\n",
       "#sk-container-id-1 div.sk-label input.sk-toggleable__control:checked~label.sk-toggleable__label {\n",
       "  color: var(--sklearn-color-text);\n",
       "  background-color: var(--sklearn-color-unfitted-level-2);\n",
       "}\n",
       "\n",
       "#sk-container-id-1 div.sk-label.fitted input.sk-toggleable__control:checked~label.sk-toggleable__label {\n",
       "  background-color: var(--sklearn-color-fitted-level-2);\n",
       "}\n",
       "\n",
       "/* Estimator-specific style */\n",
       "\n",
       "/* Colorize estimator box */\n",
       "#sk-container-id-1 div.sk-estimator input.sk-toggleable__control:checked~label.sk-toggleable__label {\n",
       "  /* unfitted */\n",
       "  background-color: var(--sklearn-color-unfitted-level-2);\n",
       "}\n",
       "\n",
       "#sk-container-id-1 div.sk-estimator.fitted input.sk-toggleable__control:checked~label.sk-toggleable__label {\n",
       "  /* fitted */\n",
       "  background-color: var(--sklearn-color-fitted-level-2);\n",
       "}\n",
       "\n",
       "#sk-container-id-1 div.sk-label label.sk-toggleable__label,\n",
       "#sk-container-id-1 div.sk-label label {\n",
       "  /* The background is the default theme color */\n",
       "  color: var(--sklearn-color-text-on-default-background);\n",
       "}\n",
       "\n",
       "/* On hover, darken the color of the background */\n",
       "#sk-container-id-1 div.sk-label:hover label.sk-toggleable__label {\n",
       "  color: var(--sklearn-color-text);\n",
       "  background-color: var(--sklearn-color-unfitted-level-2);\n",
       "}\n",
       "\n",
       "/* Label box, darken color on hover, fitted */\n",
       "#sk-container-id-1 div.sk-label.fitted:hover label.sk-toggleable__label.fitted {\n",
       "  color: var(--sklearn-color-text);\n",
       "  background-color: var(--sklearn-color-fitted-level-2);\n",
       "}\n",
       "\n",
       "/* Estimator label */\n",
       "\n",
       "#sk-container-id-1 div.sk-label label {\n",
       "  font-family: monospace;\n",
       "  font-weight: bold;\n",
       "  display: inline-block;\n",
       "  line-height: 1.2em;\n",
       "}\n",
       "\n",
       "#sk-container-id-1 div.sk-label-container {\n",
       "  text-align: center;\n",
       "}\n",
       "\n",
       "/* Estimator-specific */\n",
       "#sk-container-id-1 div.sk-estimator {\n",
       "  font-family: monospace;\n",
       "  border: 1px dotted var(--sklearn-color-border-box);\n",
       "  border-radius: 0.25em;\n",
       "  box-sizing: border-box;\n",
       "  margin-bottom: 0.5em;\n",
       "  /* unfitted */\n",
       "  background-color: var(--sklearn-color-unfitted-level-0);\n",
       "}\n",
       "\n",
       "#sk-container-id-1 div.sk-estimator.fitted {\n",
       "  /* fitted */\n",
       "  background-color: var(--sklearn-color-fitted-level-0);\n",
       "}\n",
       "\n",
       "/* on hover */\n",
       "#sk-container-id-1 div.sk-estimator:hover {\n",
       "  /* unfitted */\n",
       "  background-color: var(--sklearn-color-unfitted-level-2);\n",
       "}\n",
       "\n",
       "#sk-container-id-1 div.sk-estimator.fitted:hover {\n",
       "  /* fitted */\n",
       "  background-color: var(--sklearn-color-fitted-level-2);\n",
       "}\n",
       "\n",
       "/* Specification for estimator info (e.g. \"i\" and \"?\") */\n",
       "\n",
       "/* Common style for \"i\" and \"?\" */\n",
       "\n",
       ".sk-estimator-doc-link,\n",
       "a:link.sk-estimator-doc-link,\n",
       "a:visited.sk-estimator-doc-link {\n",
       "  float: right;\n",
       "  font-size: smaller;\n",
       "  line-height: 1em;\n",
       "  font-family: monospace;\n",
       "  background-color: var(--sklearn-color-background);\n",
       "  border-radius: 1em;\n",
       "  height: 1em;\n",
       "  width: 1em;\n",
       "  text-decoration: none !important;\n",
       "  margin-left: 1ex;\n",
       "  /* unfitted */\n",
       "  border: var(--sklearn-color-unfitted-level-1) 1pt solid;\n",
       "  color: var(--sklearn-color-unfitted-level-1);\n",
       "}\n",
       "\n",
       ".sk-estimator-doc-link.fitted,\n",
       "a:link.sk-estimator-doc-link.fitted,\n",
       "a:visited.sk-estimator-doc-link.fitted {\n",
       "  /* fitted */\n",
       "  border: var(--sklearn-color-fitted-level-1) 1pt solid;\n",
       "  color: var(--sklearn-color-fitted-level-1);\n",
       "}\n",
       "\n",
       "/* On hover */\n",
       "div.sk-estimator:hover .sk-estimator-doc-link:hover,\n",
       ".sk-estimator-doc-link:hover,\n",
       "div.sk-label-container:hover .sk-estimator-doc-link:hover,\n",
       ".sk-estimator-doc-link:hover {\n",
       "  /* unfitted */\n",
       "  background-color: var(--sklearn-color-unfitted-level-3);\n",
       "  color: var(--sklearn-color-background);\n",
       "  text-decoration: none;\n",
       "}\n",
       "\n",
       "div.sk-estimator.fitted:hover .sk-estimator-doc-link.fitted:hover,\n",
       ".sk-estimator-doc-link.fitted:hover,\n",
       "div.sk-label-container:hover .sk-estimator-doc-link.fitted:hover,\n",
       ".sk-estimator-doc-link.fitted:hover {\n",
       "  /* fitted */\n",
       "  background-color: var(--sklearn-color-fitted-level-3);\n",
       "  color: var(--sklearn-color-background);\n",
       "  text-decoration: none;\n",
       "}\n",
       "\n",
       "/* Span, style for the box shown on hovering the info icon */\n",
       ".sk-estimator-doc-link span {\n",
       "  display: none;\n",
       "  z-index: 9999;\n",
       "  position: relative;\n",
       "  font-weight: normal;\n",
       "  right: .2ex;\n",
       "  padding: .5ex;\n",
       "  margin: .5ex;\n",
       "  width: min-content;\n",
       "  min-width: 20ex;\n",
       "  max-width: 50ex;\n",
       "  color: var(--sklearn-color-text);\n",
       "  box-shadow: 2pt 2pt 4pt #999;\n",
       "  /* unfitted */\n",
       "  background: var(--sklearn-color-unfitted-level-0);\n",
       "  border: .5pt solid var(--sklearn-color-unfitted-level-3);\n",
       "}\n",
       "\n",
       ".sk-estimator-doc-link.fitted span {\n",
       "  /* fitted */\n",
       "  background: var(--sklearn-color-fitted-level-0);\n",
       "  border: var(--sklearn-color-fitted-level-3);\n",
       "}\n",
       "\n",
       ".sk-estimator-doc-link:hover span {\n",
       "  display: block;\n",
       "}\n",
       "\n",
       "/* \"?\"-specific style due to the `<a>` HTML tag */\n",
       "\n",
       "#sk-container-id-1 a.estimator_doc_link {\n",
       "  float: right;\n",
       "  font-size: 1rem;\n",
       "  line-height: 1em;\n",
       "  font-family: monospace;\n",
       "  background-color: var(--sklearn-color-background);\n",
       "  border-radius: 1rem;\n",
       "  height: 1rem;\n",
       "  width: 1rem;\n",
       "  text-decoration: none;\n",
       "  /* unfitted */\n",
       "  color: var(--sklearn-color-unfitted-level-1);\n",
       "  border: var(--sklearn-color-unfitted-level-1) 1pt solid;\n",
       "}\n",
       "\n",
       "#sk-container-id-1 a.estimator_doc_link.fitted {\n",
       "  /* fitted */\n",
       "  border: var(--sklearn-color-fitted-level-1) 1pt solid;\n",
       "  color: var(--sklearn-color-fitted-level-1);\n",
       "}\n",
       "\n",
       "/* On hover */\n",
       "#sk-container-id-1 a.estimator_doc_link:hover {\n",
       "  /* unfitted */\n",
       "  background-color: var(--sklearn-color-unfitted-level-3);\n",
       "  color: var(--sklearn-color-background);\n",
       "  text-decoration: none;\n",
       "}\n",
       "\n",
       "#sk-container-id-1 a.estimator_doc_link.fitted:hover {\n",
       "  /* fitted */\n",
       "  background-color: var(--sklearn-color-fitted-level-3);\n",
       "}\n",
       "</style><div id=\"sk-container-id-1\" class=\"sk-top-container\"><div class=\"sk-text-repr-fallback\"><pre>Pipeline(steps=[(&#x27;functiontransformer&#x27;,\n",
       "                 FunctionTransformer(func=&lt;function average_rides_last_4_weeks at 0x000002D08C3B5280&gt;)),\n",
       "                (&#x27;temporalfeatureengineer&#x27;, TemporalFeatureEngineer()),\n",
       "                (&#x27;lgbmregressor&#x27;,\n",
       "                 LGBMRegressor(bagging_fraction=0.5752941036329032,\n",
       "                               feature_fraction=0.5334617069046004,\n",
       "                               min_child_samples=51, num_leaves=53))])</pre><b>In a Jupyter environment, please rerun this cell to show the HTML representation or trust the notebook. <br />On GitHub, the HTML representation is unable to render, please try loading this page with nbviewer.org.</b></div><div class=\"sk-container\" hidden><div class=\"sk-item sk-dashed-wrapped\"><div class=\"sk-label-container\"><div class=\"sk-label fitted sk-toggleable\"><input class=\"sk-toggleable__control sk-hidden--visually\" id=\"sk-estimator-id-1\" type=\"checkbox\" ><label for=\"sk-estimator-id-1\" class=\"sk-toggleable__label fitted sk-toggleable__label-arrow fitted\">&nbsp;&nbsp;Pipeline<a class=\"sk-estimator-doc-link fitted\" rel=\"noreferrer\" target=\"_blank\" href=\"https://scikit-learn.org/1.4/modules/generated/sklearn.pipeline.Pipeline.html\">?<span>Documentation for Pipeline</span></a><span class=\"sk-estimator-doc-link fitted\">i<span>Fitted</span></span></label><div class=\"sk-toggleable__content fitted\"><pre>Pipeline(steps=[(&#x27;functiontransformer&#x27;,\n",
       "                 FunctionTransformer(func=&lt;function average_rides_last_4_weeks at 0x000002D08C3B5280&gt;)),\n",
       "                (&#x27;temporalfeatureengineer&#x27;, TemporalFeatureEngineer()),\n",
       "                (&#x27;lgbmregressor&#x27;,\n",
       "                 LGBMRegressor(bagging_fraction=0.5752941036329032,\n",
       "                               feature_fraction=0.5334617069046004,\n",
       "                               min_child_samples=51, num_leaves=53))])</pre></div> </div></div><div class=\"sk-serial\"><div class=\"sk-item\"><div class=\"sk-estimator fitted sk-toggleable\"><input class=\"sk-toggleable__control sk-hidden--visually\" id=\"sk-estimator-id-2\" type=\"checkbox\" ><label for=\"sk-estimator-id-2\" class=\"sk-toggleable__label fitted sk-toggleable__label-arrow fitted\">&nbsp;FunctionTransformer<a class=\"sk-estimator-doc-link fitted\" rel=\"noreferrer\" target=\"_blank\" href=\"https://scikit-learn.org/1.4/modules/generated/sklearn.preprocessing.FunctionTransformer.html\">?<span>Documentation for FunctionTransformer</span></a></label><div class=\"sk-toggleable__content fitted\"><pre>FunctionTransformer(func=&lt;function average_rides_last_4_weeks at 0x000002D08C3B5280&gt;)</pre></div> </div></div><div class=\"sk-item\"><div class=\"sk-estimator fitted sk-toggleable\"><input class=\"sk-toggleable__control sk-hidden--visually\" id=\"sk-estimator-id-3\" type=\"checkbox\" ><label for=\"sk-estimator-id-3\" class=\"sk-toggleable__label fitted sk-toggleable__label-arrow fitted\">TemporalFeatureEngineer</label><div class=\"sk-toggleable__content fitted\"><pre>TemporalFeatureEngineer()</pre></div> </div></div><div class=\"sk-item\"><div class=\"sk-estimator fitted sk-toggleable\"><input class=\"sk-toggleable__control sk-hidden--visually\" id=\"sk-estimator-id-4\" type=\"checkbox\" ><label for=\"sk-estimator-id-4\" class=\"sk-toggleable__label fitted sk-toggleable__label-arrow fitted\">LGBMRegressor</label><div class=\"sk-toggleable__content fitted\"><pre>LGBMRegressor(bagging_fraction=0.5752941036329032,\n",
       "              feature_fraction=0.5334617069046004, min_child_samples=51,\n",
       "              num_leaves=53)</pre></div> </div></div></div></div></div></div>"
      ],
      "text/plain": [
       "Pipeline(steps=[('functiontransformer',\n",
       "                 FunctionTransformer(func=<function average_rides_last_4_weeks at 0x000002D08C3B5280>)),\n",
       "                ('temporalfeatureengineer', TemporalFeatureEngineer()),\n",
       "                ('lgbmregressor',\n",
       "                 LGBMRegressor(bagging_fraction=0.5752941036329032,\n",
       "                               feature_fraction=0.5334617069046004,\n",
       "                               min_child_samples=51, num_leaves=53))])"
      ]
     },
     "execution_count": 12,
     "metadata": {},
     "output_type": "execute_result"
    }
   ],
   "source": [
    "pipeline = get_pipeline(**best_params)\n",
    "pipeline.fit(X_train, y_train)"
   ]
  },
  {
   "cell_type": "code",
   "execution_count": 14,
   "metadata": {},
   "outputs": [
    {
     "name": "stdout",
     "output_type": "stream",
     "text": [
      "[LightGBM] [Warning] feature_fraction is set=0.5334617069046004, colsample_bytree=1.0 will be ignored. Current value: feature_fraction=0.5334617069046004\n",
      "[LightGBM] [Warning] bagging_fraction is set=0.5752941036329032, subsample=1.0 will be ignored. Current value: bagging_fraction=0.5752941036329032\n",
      "test_mae=2.8253\n"
     ]
    }
   ],
   "source": [
    "predictions = pipeline.predict(X_test)\n",
    "test_mae = mean_absolute_error(y_test, predictions)\n",
    "print(f'{test_mae=:.4f}')"
   ]
  },
  {
   "cell_type": "code",
   "execution_count": 17,
   "metadata": {},
   "outputs": [
    {
     "data": {
      "application/vnd.plotly.v1+json": {
       "config": {
        "plotlyServerURL": "https://plot.ly"
       },
       "data": [
        {
         "hovertemplate": "x=%{x}<br>y=%{y}<extra></extra>",
         "legendgroup": "",
         "line": {
          "color": "#636efa",
          "dash": "solid"
         },
         "marker": {
          "symbol": "circle"
         },
         "mode": "lines+markers",
         "name": "",
         "orientation": "v",
         "showlegend": false,
         "type": "scatter",
         "x": [
          "2023-10-06T00:00:00",
          "2023-10-06T01:00:00",
          "2023-10-06T02:00:00",
          "2023-10-06T03:00:00",
          "2023-10-06T04:00:00",
          "2023-10-06T05:00:00",
          "2023-10-06T06:00:00",
          "2023-10-06T07:00:00",
          "2023-10-06T08:00:00",
          "2023-10-06T09:00:00",
          "2023-10-06T10:00:00",
          "2023-10-06T11:00:00",
          "2023-10-06T12:00:00",
          "2023-10-06T13:00:00",
          "2023-10-06T14:00:00",
          "2023-10-06T15:00:00",
          "2023-10-06T16:00:00",
          "2023-10-06T17:00:00",
          "2023-10-06T18:00:00",
          "2023-10-06T19:00:00",
          "2023-10-06T20:00:00",
          "2023-10-06T21:00:00",
          "2023-10-06T22:00:00",
          "2023-10-06T23:00:00",
          "2023-10-07T00:00:00",
          "2023-10-07T01:00:00",
          "2023-10-07T02:00:00",
          "2023-10-07T03:00:00",
          "2023-10-07T04:00:00",
          "2023-10-07T05:00:00",
          "2023-10-07T06:00:00",
          "2023-10-07T07:00:00",
          "2023-10-07T08:00:00",
          "2023-10-07T09:00:00",
          "2023-10-07T10:00:00",
          "2023-10-07T11:00:00",
          "2023-10-07T12:00:00",
          "2023-10-07T13:00:00",
          "2023-10-07T14:00:00",
          "2023-10-07T15:00:00",
          "2023-10-07T16:00:00",
          "2023-10-07T17:00:00",
          "2023-10-07T18:00:00",
          "2023-10-07T19:00:00",
          "2023-10-07T20:00:00",
          "2023-10-07T21:00:00",
          "2023-10-07T22:00:00",
          "2023-10-07T23:00:00",
          "2023-10-08T00:00:00",
          "2023-10-08T01:00:00",
          "2023-10-08T02:00:00",
          "2023-10-08T03:00:00",
          "2023-10-08T04:00:00",
          "2023-10-08T05:00:00",
          "2023-10-08T06:00:00",
          "2023-10-08T07:00:00",
          "2023-10-08T08:00:00",
          "2023-10-08T09:00:00",
          "2023-10-08T10:00:00",
          "2023-10-08T11:00:00",
          "2023-10-08T12:00:00",
          "2023-10-08T13:00:00",
          "2023-10-08T14:00:00",
          "2023-10-08T15:00:00",
          "2023-10-08T16:00:00",
          "2023-10-08T17:00:00",
          "2023-10-08T18:00:00",
          "2023-10-08T19:00:00",
          "2023-10-08T20:00:00",
          "2023-10-08T21:00:00",
          "2023-10-08T22:00:00",
          "2023-10-08T23:00:00",
          "2023-10-09T00:00:00",
          "2023-10-09T01:00:00",
          "2023-10-09T02:00:00",
          "2023-10-09T03:00:00",
          "2023-10-09T04:00:00",
          "2023-10-09T05:00:00",
          "2023-10-09T06:00:00",
          "2023-10-09T07:00:00",
          "2023-10-09T08:00:00",
          "2023-10-09T09:00:00",
          "2023-10-09T10:00:00",
          "2023-10-09T11:00:00",
          "2023-10-09T12:00:00",
          "2023-10-09T13:00:00",
          "2023-10-09T14:00:00",
          "2023-10-09T15:00:00",
          "2023-10-09T16:00:00",
          "2023-10-09T17:00:00",
          "2023-10-09T18:00:00",
          "2023-10-09T19:00:00",
          "2023-10-09T20:00:00",
          "2023-10-09T21:00:00",
          "2023-10-09T22:00:00",
          "2023-10-09T23:00:00",
          "2023-10-10T00:00:00",
          "2023-10-10T01:00:00",
          "2023-10-10T02:00:00",
          "2023-10-10T03:00:00",
          "2023-10-10T04:00:00",
          "2023-10-10T05:00:00",
          "2023-10-10T06:00:00",
          "2023-10-10T07:00:00",
          "2023-10-10T08:00:00",
          "2023-10-10T09:00:00",
          "2023-10-10T10:00:00",
          "2023-10-10T11:00:00",
          "2023-10-10T12:00:00",
          "2023-10-10T13:00:00",
          "2023-10-10T14:00:00",
          "2023-10-10T15:00:00",
          "2023-10-10T16:00:00",
          "2023-10-10T17:00:00",
          "2023-10-10T18:00:00",
          "2023-10-10T19:00:00",
          "2023-10-10T20:00:00",
          "2023-10-10T21:00:00",
          "2023-10-10T22:00:00",
          "2023-10-10T23:00:00",
          "2023-10-11T00:00:00",
          "2023-10-11T01:00:00",
          "2023-10-11T02:00:00",
          "2023-10-11T03:00:00",
          "2023-10-11T04:00:00",
          "2023-10-11T05:00:00",
          "2023-10-11T06:00:00",
          "2023-10-11T07:00:00",
          "2023-10-11T08:00:00",
          "2023-10-11T09:00:00",
          "2023-10-11T10:00:00",
          "2023-10-11T11:00:00",
          "2023-10-11T12:00:00",
          "2023-10-11T13:00:00",
          "2023-10-11T14:00:00",
          "2023-10-11T15:00:00",
          "2023-10-11T16:00:00",
          "2023-10-11T17:00:00",
          "2023-10-11T18:00:00",
          "2023-10-11T19:00:00",
          "2023-10-11T20:00:00",
          "2023-10-11T21:00:00",
          "2023-10-11T22:00:00",
          "2023-10-11T23:00:00",
          "2023-10-12T00:00:00",
          "2023-10-12T01:00:00",
          "2023-10-12T02:00:00",
          "2023-10-12T03:00:00",
          "2023-10-12T04:00:00",
          "2023-10-12T05:00:00",
          "2023-10-12T06:00:00",
          "2023-10-12T07:00:00",
          "2023-10-12T08:00:00",
          "2023-10-12T09:00:00",
          "2023-10-12T10:00:00",
          "2023-10-12T11:00:00",
          "2023-10-12T12:00:00",
          "2023-10-12T13:00:00",
          "2023-10-12T14:00:00",
          "2023-10-12T15:00:00",
          "2023-10-12T16:00:00",
          "2023-10-12T17:00:00",
          "2023-10-12T18:00:00",
          "2023-10-12T19:00:00",
          "2023-10-12T20:00:00",
          "2023-10-12T21:00:00",
          "2023-10-12T22:00:00",
          "2023-10-12T23:00:00",
          "2023-10-13T00:00:00",
          "2023-10-13T01:00:00",
          "2023-10-13T02:00:00",
          "2023-10-13T03:00:00",
          "2023-10-13T04:00:00",
          "2023-10-13T05:00:00",
          "2023-10-13T06:00:00",
          "2023-10-13T07:00:00",
          "2023-10-13T08:00:00",
          "2023-10-13T09:00:00",
          "2023-10-13T10:00:00",
          "2023-10-13T11:00:00",
          "2023-10-13T12:00:00",
          "2023-10-13T13:00:00",
          "2023-10-13T14:00:00",
          "2023-10-13T15:00:00",
          "2023-10-13T16:00:00",
          "2023-10-13T17:00:00",
          "2023-10-13T18:00:00",
          "2023-10-13T19:00:00",
          "2023-10-13T20:00:00",
          "2023-10-13T21:00:00",
          "2023-10-13T22:00:00",
          "2023-10-13T23:00:00",
          "2023-10-14T00:00:00",
          "2023-10-14T01:00:00",
          "2023-10-14T02:00:00",
          "2023-10-14T03:00:00",
          "2023-10-14T04:00:00",
          "2023-10-14T05:00:00",
          "2023-10-14T06:00:00",
          "2023-10-14T07:00:00",
          "2023-10-14T08:00:00",
          "2023-10-14T09:00:00",
          "2023-10-14T10:00:00",
          "2023-10-14T11:00:00",
          "2023-10-14T12:00:00",
          "2023-10-14T13:00:00",
          "2023-10-14T14:00:00",
          "2023-10-14T15:00:00",
          "2023-10-14T16:00:00",
          "2023-10-14T17:00:00",
          "2023-10-14T18:00:00",
          "2023-10-14T19:00:00",
          "2023-10-14T20:00:00",
          "2023-10-14T21:00:00",
          "2023-10-14T22:00:00",
          "2023-10-14T23:00:00",
          "2023-10-15T00:00:00",
          "2023-10-15T01:00:00",
          "2023-10-15T02:00:00",
          "2023-10-15T03:00:00",
          "2023-10-15T04:00:00",
          "2023-10-15T05:00:00",
          "2023-10-15T06:00:00",
          "2023-10-15T07:00:00",
          "2023-10-15T08:00:00",
          "2023-10-15T09:00:00",
          "2023-10-15T10:00:00",
          "2023-10-15T11:00:00",
          "2023-10-15T12:00:00",
          "2023-10-15T13:00:00",
          "2023-10-15T14:00:00",
          "2023-10-15T15:00:00",
          "2023-10-15T16:00:00",
          "2023-10-15T17:00:00",
          "2023-10-15T18:00:00",
          "2023-10-15T19:00:00",
          "2023-10-15T20:00:00",
          "2023-10-15T21:00:00",
          "2023-10-15T22:00:00",
          "2023-10-15T23:00:00",
          "2023-10-16T00:00:00",
          "2023-10-16T01:00:00",
          "2023-10-16T02:00:00",
          "2023-10-16T03:00:00",
          "2023-10-16T04:00:00",
          "2023-10-16T05:00:00",
          "2023-10-16T06:00:00",
          "2023-10-16T07:00:00",
          "2023-10-16T08:00:00",
          "2023-10-16T09:00:00",
          "2023-10-16T10:00:00",
          "2023-10-16T11:00:00",
          "2023-10-16T12:00:00",
          "2023-10-16T13:00:00",
          "2023-10-16T14:00:00",
          "2023-10-16T15:00:00",
          "2023-10-16T16:00:00",
          "2023-10-16T17:00:00",
          "2023-10-16T18:00:00",
          "2023-10-16T19:00:00",
          "2023-10-16T20:00:00",
          "2023-10-16T21:00:00",
          "2023-10-16T22:00:00",
          "2023-10-16T23:00:00",
          "2023-10-17T00:00:00",
          "2023-10-17T01:00:00",
          "2023-10-17T02:00:00",
          "2023-10-17T03:00:00",
          "2023-10-17T04:00:00",
          "2023-10-17T05:00:00",
          "2023-10-17T06:00:00",
          "2023-10-17T07:00:00",
          "2023-10-17T08:00:00",
          "2023-10-17T09:00:00",
          "2023-10-17T10:00:00",
          "2023-10-17T11:00:00",
          "2023-10-17T12:00:00",
          "2023-10-17T13:00:00",
          "2023-10-17T14:00:00",
          "2023-10-17T15:00:00",
          "2023-10-17T16:00:00",
          "2023-10-17T17:00:00",
          "2023-10-17T18:00:00",
          "2023-10-17T19:00:00",
          "2023-10-17T20:00:00",
          "2023-10-17T21:00:00",
          "2023-10-17T22:00:00",
          "2023-10-17T23:00:00",
          "2023-10-18T00:00:00",
          "2023-10-18T01:00:00",
          "2023-10-18T02:00:00",
          "2023-10-18T03:00:00",
          "2023-10-18T04:00:00",
          "2023-10-18T05:00:00",
          "2023-10-18T06:00:00",
          "2023-10-18T07:00:00",
          "2023-10-18T08:00:00",
          "2023-10-18T09:00:00",
          "2023-10-18T10:00:00",
          "2023-10-18T11:00:00",
          "2023-10-18T12:00:00",
          "2023-10-18T13:00:00",
          "2023-10-18T14:00:00",
          "2023-10-18T15:00:00",
          "2023-10-18T16:00:00",
          "2023-10-18T17:00:00",
          "2023-10-18T18:00:00",
          "2023-10-18T19:00:00",
          "2023-10-18T20:00:00",
          "2023-10-18T21:00:00",
          "2023-10-18T22:00:00",
          "2023-10-18T23:00:00",
          "2023-10-19T00:00:00",
          "2023-10-19T01:00:00",
          "2023-10-19T02:00:00",
          "2023-10-19T03:00:00",
          "2023-10-19T04:00:00",
          "2023-10-19T05:00:00",
          "2023-10-19T06:00:00",
          "2023-10-19T07:00:00",
          "2023-10-19T08:00:00",
          "2023-10-19T09:00:00",
          "2023-10-19T10:00:00",
          "2023-10-19T11:00:00",
          "2023-10-19T12:00:00",
          "2023-10-19T13:00:00",
          "2023-10-19T14:00:00",
          "2023-10-19T15:00:00",
          "2023-10-19T16:00:00",
          "2023-10-19T17:00:00",
          "2023-10-19T18:00:00",
          "2023-10-19T19:00:00",
          "2023-10-19T20:00:00",
          "2023-10-19T21:00:00",
          "2023-10-19T22:00:00",
          "2023-10-19T23:00:00",
          "2023-10-20T00:00:00",
          "2023-10-20T01:00:00",
          "2023-10-20T02:00:00",
          "2023-10-20T03:00:00",
          "2023-10-20T04:00:00",
          "2023-10-20T05:00:00",
          "2023-10-20T06:00:00",
          "2023-10-20T07:00:00",
          "2023-10-20T08:00:00",
          "2023-10-20T09:00:00",
          "2023-10-20T10:00:00",
          "2023-10-20T11:00:00",
          "2023-10-20T12:00:00",
          "2023-10-20T13:00:00",
          "2023-10-20T14:00:00",
          "2023-10-20T15:00:00",
          "2023-10-20T16:00:00",
          "2023-10-20T17:00:00",
          "2023-10-20T18:00:00",
          "2023-10-20T19:00:00",
          "2023-10-20T20:00:00",
          "2023-10-20T21:00:00",
          "2023-10-20T22:00:00",
          "2023-10-20T23:00:00",
          "2023-10-21T00:00:00",
          "2023-10-21T01:00:00",
          "2023-10-21T02:00:00",
          "2023-10-21T03:00:00",
          "2023-10-21T04:00:00",
          "2023-10-21T05:00:00",
          "2023-10-21T06:00:00",
          "2023-10-21T07:00:00",
          "2023-10-21T08:00:00",
          "2023-10-21T09:00:00",
          "2023-10-21T10:00:00",
          "2023-10-21T11:00:00",
          "2023-10-21T12:00:00",
          "2023-10-21T13:00:00",
          "2023-10-21T14:00:00",
          "2023-10-21T15:00:00",
          "2023-10-21T16:00:00",
          "2023-10-21T17:00:00",
          "2023-10-21T18:00:00",
          "2023-10-21T19:00:00",
          "2023-10-21T20:00:00",
          "2023-10-21T21:00:00",
          "2023-10-21T22:00:00",
          "2023-10-21T23:00:00",
          "2023-10-22T00:00:00",
          "2023-10-22T01:00:00",
          "2023-10-22T02:00:00",
          "2023-10-22T03:00:00",
          "2023-10-22T04:00:00",
          "2023-10-22T05:00:00",
          "2023-10-22T06:00:00",
          "2023-10-22T07:00:00",
          "2023-10-22T08:00:00",
          "2023-10-22T09:00:00",
          "2023-10-22T10:00:00",
          "2023-10-22T11:00:00",
          "2023-10-22T12:00:00",
          "2023-10-22T13:00:00",
          "2023-10-22T14:00:00",
          "2023-10-22T15:00:00",
          "2023-10-22T16:00:00",
          "2023-10-22T17:00:00",
          "2023-10-22T18:00:00",
          "2023-10-22T19:00:00",
          "2023-10-22T20:00:00",
          "2023-10-22T21:00:00",
          "2023-10-22T22:00:00",
          "2023-10-22T23:00:00",
          "2023-10-23T00:00:00",
          "2023-10-23T01:00:00",
          "2023-10-23T02:00:00",
          "2023-10-23T03:00:00",
          "2023-10-23T04:00:00",
          "2023-10-23T05:00:00",
          "2023-10-23T06:00:00",
          "2023-10-23T07:00:00",
          "2023-10-23T08:00:00",
          "2023-10-23T09:00:00",
          "2023-10-23T10:00:00",
          "2023-10-23T11:00:00",
          "2023-10-23T12:00:00",
          "2023-10-23T13:00:00",
          "2023-10-23T14:00:00",
          "2023-10-23T15:00:00",
          "2023-10-23T16:00:00",
          "2023-10-23T17:00:00",
          "2023-10-23T18:00:00",
          "2023-10-23T19:00:00",
          "2023-10-23T20:00:00",
          "2023-10-23T21:00:00",
          "2023-10-23T22:00:00",
          "2023-10-23T23:00:00",
          "2023-10-24T00:00:00",
          "2023-10-24T01:00:00",
          "2023-10-24T02:00:00",
          "2023-10-24T03:00:00",
          "2023-10-24T04:00:00",
          "2023-10-24T05:00:00",
          "2023-10-24T06:00:00",
          "2023-10-24T07:00:00",
          "2023-10-24T08:00:00",
          "2023-10-24T09:00:00",
          "2023-10-24T10:00:00",
          "2023-10-24T11:00:00",
          "2023-10-24T12:00:00",
          "2023-10-24T13:00:00",
          "2023-10-24T14:00:00",
          "2023-10-24T15:00:00",
          "2023-10-24T16:00:00",
          "2023-10-24T17:00:00",
          "2023-10-24T18:00:00",
          "2023-10-24T19:00:00",
          "2023-10-24T20:00:00",
          "2023-10-24T21:00:00",
          "2023-10-24T22:00:00",
          "2023-10-24T23:00:00",
          "2023-10-25T00:00:00",
          "2023-10-25T01:00:00",
          "2023-10-25T02:00:00",
          "2023-10-25T03:00:00",
          "2023-10-25T04:00:00",
          "2023-10-25T05:00:00",
          "2023-10-25T06:00:00",
          "2023-10-25T07:00:00",
          "2023-10-25T08:00:00",
          "2023-10-25T09:00:00",
          "2023-10-25T10:00:00",
          "2023-10-25T11:00:00",
          "2023-10-25T12:00:00",
          "2023-10-25T13:00:00",
          "2023-10-25T14:00:00",
          "2023-10-25T15:00:00",
          "2023-10-25T16:00:00",
          "2023-10-25T17:00:00",
          "2023-10-25T18:00:00",
          "2023-10-25T19:00:00",
          "2023-10-25T20:00:00",
          "2023-10-25T21:00:00",
          "2023-10-25T22:00:00",
          "2023-10-25T23:00:00",
          "2023-10-26T00:00:00",
          "2023-10-26T01:00:00",
          "2023-10-26T02:00:00",
          "2023-10-26T03:00:00",
          "2023-10-26T04:00:00",
          "2023-10-26T05:00:00",
          "2023-10-26T06:00:00",
          "2023-10-26T07:00:00",
          "2023-10-26T08:00:00",
          "2023-10-26T09:00:00",
          "2023-10-26T10:00:00",
          "2023-10-26T11:00:00",
          "2023-10-26T12:00:00",
          "2023-10-26T13:00:00",
          "2023-10-26T14:00:00",
          "2023-10-26T15:00:00",
          "2023-10-26T16:00:00",
          "2023-10-26T17:00:00",
          "2023-10-26T18:00:00",
          "2023-10-26T19:00:00",
          "2023-10-26T20:00:00",
          "2023-10-26T21:00:00",
          "2023-10-26T22:00:00",
          "2023-10-26T23:00:00",
          "2023-10-27T00:00:00",
          "2023-10-27T01:00:00",
          "2023-10-27T02:00:00",
          "2023-10-27T03:00:00",
          "2023-10-27T04:00:00",
          "2023-10-27T05:00:00",
          "2023-10-27T06:00:00",
          "2023-10-27T07:00:00",
          "2023-10-27T08:00:00",
          "2023-10-27T09:00:00",
          "2023-10-27T10:00:00",
          "2023-10-27T11:00:00",
          "2023-10-27T12:00:00",
          "2023-10-27T13:00:00",
          "2023-10-27T14:00:00",
          "2023-10-27T15:00:00",
          "2023-10-27T16:00:00",
          "2023-10-27T17:00:00",
          "2023-10-27T18:00:00",
          "2023-10-27T19:00:00",
          "2023-10-27T20:00:00",
          "2023-10-27T21:00:00",
          "2023-10-27T22:00:00",
          "2023-10-27T23:00:00",
          "2023-10-28T00:00:00",
          "2023-10-28T01:00:00",
          "2023-10-28T02:00:00",
          "2023-10-28T03:00:00",
          "2023-10-28T04:00:00",
          "2023-10-28T05:00:00",
          "2023-10-28T06:00:00",
          "2023-10-28T07:00:00",
          "2023-10-28T08:00:00",
          "2023-10-28T09:00:00",
          "2023-10-28T10:00:00",
          "2023-10-28T11:00:00",
          "2023-10-28T12:00:00",
          "2023-10-28T13:00:00",
          "2023-10-28T14:00:00",
          "2023-10-28T15:00:00",
          "2023-10-28T16:00:00",
          "2023-10-28T17:00:00",
          "2023-10-28T18:00:00",
          "2023-10-28T19:00:00",
          "2023-10-28T20:00:00",
          "2023-10-28T21:00:00",
          "2023-10-28T22:00:00",
          "2023-10-28T23:00:00",
          "2023-10-29T00:00:00",
          "2023-10-29T01:00:00",
          "2023-10-29T02:00:00",
          "2023-10-29T03:00:00",
          "2023-10-29T04:00:00",
          "2023-10-29T05:00:00",
          "2023-10-29T06:00:00",
          "2023-10-29T07:00:00",
          "2023-10-29T08:00:00",
          "2023-10-29T09:00:00",
          "2023-10-29T10:00:00",
          "2023-10-29T11:00:00",
          "2023-10-29T12:00:00",
          "2023-10-29T13:00:00",
          "2023-10-29T14:00:00",
          "2023-10-29T15:00:00",
          "2023-10-29T16:00:00",
          "2023-10-29T17:00:00",
          "2023-10-29T18:00:00",
          "2023-10-29T19:00:00",
          "2023-10-29T20:00:00",
          "2023-10-29T21:00:00",
          "2023-10-29T22:00:00",
          "2023-10-29T23:00:00",
          "2023-10-30T00:00:00",
          "2023-10-30T01:00:00",
          "2023-10-30T02:00:00",
          "2023-10-30T03:00:00",
          "2023-10-30T04:00:00",
          "2023-10-30T05:00:00",
          "2023-10-30T06:00:00",
          "2023-10-30T07:00:00",
          "2023-10-30T08:00:00",
          "2023-10-30T09:00:00",
          "2023-10-30T10:00:00",
          "2023-10-30T11:00:00",
          "2023-10-30T12:00:00",
          "2023-10-30T13:00:00",
          "2023-10-30T14:00:00",
          "2023-10-30T15:00:00",
          "2023-10-30T16:00:00",
          "2023-10-30T17:00:00",
          "2023-10-30T18:00:00",
          "2023-10-30T19:00:00",
          "2023-10-30T20:00:00",
          "2023-10-30T21:00:00",
          "2023-10-30T22:00:00",
          "2023-10-30T23:00:00",
          "2023-10-31T00:00:00",
          "2023-10-31T01:00:00",
          "2023-10-31T02:00:00",
          "2023-10-31T03:00:00",
          "2023-10-31T04:00:00",
          "2023-10-31T05:00:00",
          "2023-10-31T06:00:00",
          "2023-10-31T07:00:00",
          "2023-10-31T08:00:00",
          "2023-10-31T09:00:00",
          "2023-10-31T10:00:00",
          "2023-10-31T11:00:00",
          "2023-10-31T12:00:00",
          "2023-10-31T13:00:00",
          "2023-10-31T14:00:00",
          "2023-10-31T15:00:00",
          "2023-10-31T16:00:00",
          "2023-10-31T17:00:00",
          "2023-10-31T18:00:00",
          "2023-10-31T19:00:00",
          "2023-10-31T20:00:00",
          "2023-10-31T21:00:00",
          "2023-10-31T22:00:00",
          "2023-10-31T23:00:00",
          "2023-11-01T00:00:00",
          "2023-11-01T01:00:00",
          "2023-11-01T02:00:00",
          "2023-11-01T03:00:00",
          "2023-11-01T04:00:00",
          "2023-11-01T05:00:00",
          "2023-11-01T06:00:00",
          "2023-11-01T07:00:00",
          "2023-11-01T08:00:00",
          "2023-11-01T09:00:00",
          "2023-11-01T10:00:00",
          "2023-11-01T11:00:00",
          "2023-11-01T12:00:00",
          "2023-11-01T13:00:00",
          "2023-11-01T14:00:00",
          "2023-11-01T15:00:00",
          "2023-11-01T16:00:00",
          "2023-11-01T17:00:00",
          "2023-11-01T18:00:00",
          "2023-11-01T19:00:00",
          "2023-11-01T20:00:00",
          "2023-11-01T21:00:00",
          "2023-11-01T22:00:00",
          "2023-11-01T23:00:00",
          "2023-11-02T00:00:00",
          "2023-11-02T01:00:00",
          "2023-11-02T02:00:00",
          "2023-11-02T03:00:00",
          "2023-11-02T04:00:00",
          "2023-11-02T05:00:00",
          "2023-11-02T06:00:00",
          "2023-11-02T07:00:00",
          "2023-11-02T08:00:00",
          "2023-11-02T09:00:00",
          "2023-11-02T10:00:00",
          "2023-11-02T11:00:00",
          "2023-11-02T12:00:00",
          "2023-11-02T13:00:00",
          "2023-11-02T14:00:00",
          "2023-11-02T15:00:00",
          "2023-11-02T16:00:00",
          "2023-11-02T17:00:00",
          "2023-11-02T18:00:00",
          "2023-11-02T19:00:00",
          "2023-11-02T20:00:00",
          "2023-11-02T21:00:00",
          "2023-11-02T22:00:00",
          "2023-11-02T23:00:00",
          "2023-11-03T00:00:00"
         ],
         "xaxis": "x",
         "y": [
          113,
          96,
          54,
          47,
          23,
          31,
          122,
          99,
          111,
          104,
          118,
          107,
          105,
          89,
          109,
          86,
          108,
          129,
          173,
          215,
          177,
          216,
          270,
          232,
          198,
          168,
          105,
          107,
          80,
          26,
          40,
          55,
          81,
          107,
          157,
          161,
          160,
          162,
          158,
          130,
          197,
          183,
          186,
          203,
          165,
          178,
          233,
          255,
          231,
          146,
          140,
          116,
          79,
          30,
          32,
          49,
          75,
          89,
          128,
          135,
          167,
          150,
          186,
          153,
          168,
          169,
          153,
          173,
          155,
          189,
          221,
          107,
          84,
          41,
          44,
          30,
          30,
          34,
          62,
          64,
          86,
          112,
          103,
          104,
          126,
          95,
          109,
          122,
          108,
          90,
          135,
          115,
          136,
          119,
          95,
          59,
          56,
          27,
          15,
          18,
          16,
          49,
          88,
          97,
          115,
          96,
          103,
          97,
          127,
          94,
          89,
          98,
          114,
          144,
          196,
          154,
          157,
          205,
          169,
          105,
          81,
          36,
          21,
          13,
          25,
          46,
          102,
          134,
          125,
          131,
          108,
          96,
          133,
          105,
          107,
          119,
          141,
          166,
          208,
          194,
          204,
          242,
          221,
          186,
          84,
          47,
          47,
          22,
          23,
          47,
          83,
          94,
          134,
          123,
          101,
          122,
          107,
          118,
          113,
          100,
          123,
          132,
          190,
          213,
          204,
          289,
          230,
          225,
          157,
          88,
          82,
          50,
          35,
          34,
          70,
          84,
          96,
          124,
          118,
          129,
          119,
          91,
          101,
          115,
          128,
          146,
          193,
          230,
          171,
          248,
          250,
          225,
          235,
          153,
          142,
          103,
          55,
          41,
          33,
          51,
          81,
          114,
          140,
          136,
          148,
          160,
          136,
          142,
          167,
          190,
          176,
          230,
          147,
          201,
          212,
          238,
          212,
          162,
          139,
          115,
          78,
          47,
          37,
          52,
          76,
          106,
          124,
          130,
          115,
          116,
          132,
          129,
          135,
          192,
          165,
          171,
          157,
          169,
          130,
          96,
          60,
          46,
          28,
          20,
          22,
          56,
          94,
          116,
          103,
          121,
          113,
          121,
          82,
          103,
          96,
          118,
          92,
          127,
          156,
          147,
          115,
          160,
          115,
          90,
          46,
          43,
          33,
          16,
          8,
          47,
          66,
          117,
          115,
          104,
          93,
          119,
          115,
          113,
          101,
          109,
          106,
          117,
          177,
          189,
          165,
          290,
          181,
          162,
          94,
          45,
          27,
          23,
          13,
          40,
          74,
          116,
          131,
          117,
          104,
          105,
          96,
          113,
          119,
          105,
          137,
          164,
          193,
          180,
          180,
          203,
          249,
          160,
          101,
          49,
          37,
          22,
          18,
          54,
          86,
          129,
          114,
          132,
          112,
          127,
          97,
          110,
          110,
          113,
          120,
          170,
          216,
          204,
          203,
          267,
          277,
          219,
          163,
          91,
          66,
          50,
          26,
          60,
          67,
          93,
          111,
          133,
          100,
          115,
          115,
          98,
          112,
          112,
          138,
          210,
          188,
          223,
          170,
          208,
          236,
          275,
          243,
          212,
          168,
          102,
          73,
          29,
          40,
          49,
          80,
          109,
          127,
          136,
          139,
          147,
          127,
          139,
          141,
          198,
          180,
          210,
          194,
          198,
          282,
          297,
          283,
          221,
          187,
          151,
          96,
          30,
          39,
          49,
          60,
          108,
          134,
          146,
          127,
          114,
          124,
          119,
          139,
          185,
          199,
          178,
          141,
          184,
          110,
          84,
          45,
          32,
          25,
          26,
          15,
          50,
          84,
          93,
          123,
          115,
          107,
          109,
          95,
          83,
          107,
          83,
          89,
          130,
          153,
          112,
          130,
          142,
          105,
          105,
          66,
          27,
          23,
          18,
          17,
          41,
          98,
          104,
          111,
          132,
          126,
          104,
          91,
          87,
          103,
          109,
          96,
          168,
          157,
          153,
          169,
          237,
          164,
          111,
          79,
          45,
          34,
          17,
          12,
          39,
          58,
          112,
          124,
          124,
          105,
          97,
          120,
          127,
          103,
          118,
          127,
          163,
          217,
          166,
          192,
          229,
          271,
          155,
          85,
          61,
          33,
          32,
          22,
          28,
          95,
          106,
          122,
          115,
          114,
          111,
          98,
          122,
          118,
          94,
          124,
          173,
          224,
          185,
          206,
          226,
          320,
          274,
          158,
          123,
          93,
          81,
          54,
          41,
          75,
          78,
          94,
          113,
          112,
          100,
          111,
          101,
          115,
          112,
          122,
          169,
          202,
          175,
          190,
          228,
          292,
          267,
          239,
          243,
          257,
          161,
          99,
          44,
          46,
          38,
          78,
          106,
          123,
          120,
          136,
          140,
          123,
          139,
          161,
          185,
          204,
          252,
          228,
          205,
          298,
          296,
          286,
          303,
          300,
          204,
          165,
          52,
          37,
          44,
          74,
          98,
          123,
          135,
          149,
          162,
          151,
          124,
          147,
          164,
          171,
          128,
          154,
          138,
          129,
          64,
          58,
          36,
          33,
          15,
          31,
          65,
          118,
          104,
          93,
          100,
          101,
          93,
          92,
          103,
          87,
          81,
          95,
          127,
          134,
          129,
          143,
          133,
          133,
          122,
          68,
          56,
          34,
          28,
          22,
          62,
          97,
          93,
          107,
          84,
          99,
          87,
          105,
          90,
          108,
          91,
          120,
          130,
          169,
          140,
          128,
          161,
          175,
          141,
          106,
          82,
          87,
          71,
          74,
          53,
          91,
          79,
          152,
          109,
          113,
          105,
          105,
          116,
          106,
          84,
          132,
          152,
          212,
          146,
          208,
          230,
          279,
          135,
          82,
          40,
          26,
          20,
          15,
          39,
          91,
          107,
          125,
          126,
          118,
          111,
          122,
          99,
          133,
          115,
          125,
          155,
          201,
          149,
          187,
          217,
          327,
          213,
          135
         ],
         "yaxis": "y"
        },
        {
         "line": {
          "color": "green"
         },
         "marker": {
          "size": 10
         },
         "mode": "markers",
         "name": "actual value",
         "type": "scatter",
         "x": [
          "2023-11-03T00:00:00"
         ],
         "y": [
          135
         ]
        },
        {
         "line": {
          "color": "red"
         },
         "marker": {
          "size": 15,
          "symbol": "x"
         },
         "mode": "markers",
         "name": "prediction",
         "type": "scatter",
         "x": [
          "2023-11-03T00:00:00"
         ],
         "y": [
          153.79657691437797
         ]
        }
       ],
       "layout": {
        "legend": {
         "tracegroupgap": 0
        },
        "template": {
         "data": {
          "bar": [
           {
            "error_x": {
             "color": "#f2f5fa"
            },
            "error_y": {
             "color": "#f2f5fa"
            },
            "marker": {
             "line": {
              "color": "rgb(17,17,17)",
              "width": 0.5
             },
             "pattern": {
              "fillmode": "overlay",
              "size": 10,
              "solidity": 0.2
             }
            },
            "type": "bar"
           }
          ],
          "barpolar": [
           {
            "marker": {
             "line": {
              "color": "rgb(17,17,17)",
              "width": 0.5
             },
             "pattern": {
              "fillmode": "overlay",
              "size": 10,
              "solidity": 0.2
             }
            },
            "type": "barpolar"
           }
          ],
          "carpet": [
           {
            "aaxis": {
             "endlinecolor": "#A2B1C6",
             "gridcolor": "#506784",
             "linecolor": "#506784",
             "minorgridcolor": "#506784",
             "startlinecolor": "#A2B1C6"
            },
            "baxis": {
             "endlinecolor": "#A2B1C6",
             "gridcolor": "#506784",
             "linecolor": "#506784",
             "minorgridcolor": "#506784",
             "startlinecolor": "#A2B1C6"
            },
            "type": "carpet"
           }
          ],
          "choropleth": [
           {
            "colorbar": {
             "outlinewidth": 0,
             "ticks": ""
            },
            "type": "choropleth"
           }
          ],
          "contour": [
           {
            "colorbar": {
             "outlinewidth": 0,
             "ticks": ""
            },
            "colorscale": [
             [
              0,
              "#0d0887"
             ],
             [
              0.1111111111111111,
              "#46039f"
             ],
             [
              0.2222222222222222,
              "#7201a8"
             ],
             [
              0.3333333333333333,
              "#9c179e"
             ],
             [
              0.4444444444444444,
              "#bd3786"
             ],
             [
              0.5555555555555556,
              "#d8576b"
             ],
             [
              0.6666666666666666,
              "#ed7953"
             ],
             [
              0.7777777777777778,
              "#fb9f3a"
             ],
             [
              0.8888888888888888,
              "#fdca26"
             ],
             [
              1,
              "#f0f921"
             ]
            ],
            "type": "contour"
           }
          ],
          "contourcarpet": [
           {
            "colorbar": {
             "outlinewidth": 0,
             "ticks": ""
            },
            "type": "contourcarpet"
           }
          ],
          "heatmap": [
           {
            "colorbar": {
             "outlinewidth": 0,
             "ticks": ""
            },
            "colorscale": [
             [
              0,
              "#0d0887"
             ],
             [
              0.1111111111111111,
              "#46039f"
             ],
             [
              0.2222222222222222,
              "#7201a8"
             ],
             [
              0.3333333333333333,
              "#9c179e"
             ],
             [
              0.4444444444444444,
              "#bd3786"
             ],
             [
              0.5555555555555556,
              "#d8576b"
             ],
             [
              0.6666666666666666,
              "#ed7953"
             ],
             [
              0.7777777777777778,
              "#fb9f3a"
             ],
             [
              0.8888888888888888,
              "#fdca26"
             ],
             [
              1,
              "#f0f921"
             ]
            ],
            "type": "heatmap"
           }
          ],
          "heatmapgl": [
           {
            "colorbar": {
             "outlinewidth": 0,
             "ticks": ""
            },
            "colorscale": [
             [
              0,
              "#0d0887"
             ],
             [
              0.1111111111111111,
              "#46039f"
             ],
             [
              0.2222222222222222,
              "#7201a8"
             ],
             [
              0.3333333333333333,
              "#9c179e"
             ],
             [
              0.4444444444444444,
              "#bd3786"
             ],
             [
              0.5555555555555556,
              "#d8576b"
             ],
             [
              0.6666666666666666,
              "#ed7953"
             ],
             [
              0.7777777777777778,
              "#fb9f3a"
             ],
             [
              0.8888888888888888,
              "#fdca26"
             ],
             [
              1,
              "#f0f921"
             ]
            ],
            "type": "heatmapgl"
           }
          ],
          "histogram": [
           {
            "marker": {
             "pattern": {
              "fillmode": "overlay",
              "size": 10,
              "solidity": 0.2
             }
            },
            "type": "histogram"
           }
          ],
          "histogram2d": [
           {
            "colorbar": {
             "outlinewidth": 0,
             "ticks": ""
            },
            "colorscale": [
             [
              0,
              "#0d0887"
             ],
             [
              0.1111111111111111,
              "#46039f"
             ],
             [
              0.2222222222222222,
              "#7201a8"
             ],
             [
              0.3333333333333333,
              "#9c179e"
             ],
             [
              0.4444444444444444,
              "#bd3786"
             ],
             [
              0.5555555555555556,
              "#d8576b"
             ],
             [
              0.6666666666666666,
              "#ed7953"
             ],
             [
              0.7777777777777778,
              "#fb9f3a"
             ],
             [
              0.8888888888888888,
              "#fdca26"
             ],
             [
              1,
              "#f0f921"
             ]
            ],
            "type": "histogram2d"
           }
          ],
          "histogram2dcontour": [
           {
            "colorbar": {
             "outlinewidth": 0,
             "ticks": ""
            },
            "colorscale": [
             [
              0,
              "#0d0887"
             ],
             [
              0.1111111111111111,
              "#46039f"
             ],
             [
              0.2222222222222222,
              "#7201a8"
             ],
             [
              0.3333333333333333,
              "#9c179e"
             ],
             [
              0.4444444444444444,
              "#bd3786"
             ],
             [
              0.5555555555555556,
              "#d8576b"
             ],
             [
              0.6666666666666666,
              "#ed7953"
             ],
             [
              0.7777777777777778,
              "#fb9f3a"
             ],
             [
              0.8888888888888888,
              "#fdca26"
             ],
             [
              1,
              "#f0f921"
             ]
            ],
            "type": "histogram2dcontour"
           }
          ],
          "mesh3d": [
           {
            "colorbar": {
             "outlinewidth": 0,
             "ticks": ""
            },
            "type": "mesh3d"
           }
          ],
          "parcoords": [
           {
            "line": {
             "colorbar": {
              "outlinewidth": 0,
              "ticks": ""
             }
            },
            "type": "parcoords"
           }
          ],
          "pie": [
           {
            "automargin": true,
            "type": "pie"
           }
          ],
          "scatter": [
           {
            "marker": {
             "line": {
              "color": "#283442"
             }
            },
            "type": "scatter"
           }
          ],
          "scatter3d": [
           {
            "line": {
             "colorbar": {
              "outlinewidth": 0,
              "ticks": ""
             }
            },
            "marker": {
             "colorbar": {
              "outlinewidth": 0,
              "ticks": ""
             }
            },
            "type": "scatter3d"
           }
          ],
          "scattercarpet": [
           {
            "marker": {
             "colorbar": {
              "outlinewidth": 0,
              "ticks": ""
             }
            },
            "type": "scattercarpet"
           }
          ],
          "scattergeo": [
           {
            "marker": {
             "colorbar": {
              "outlinewidth": 0,
              "ticks": ""
             }
            },
            "type": "scattergeo"
           }
          ],
          "scattergl": [
           {
            "marker": {
             "line": {
              "color": "#283442"
             }
            },
            "type": "scattergl"
           }
          ],
          "scattermapbox": [
           {
            "marker": {
             "colorbar": {
              "outlinewidth": 0,
              "ticks": ""
             }
            },
            "type": "scattermapbox"
           }
          ],
          "scatterpolar": [
           {
            "marker": {
             "colorbar": {
              "outlinewidth": 0,
              "ticks": ""
             }
            },
            "type": "scatterpolar"
           }
          ],
          "scatterpolargl": [
           {
            "marker": {
             "colorbar": {
              "outlinewidth": 0,
              "ticks": ""
             }
            },
            "type": "scatterpolargl"
           }
          ],
          "scatterternary": [
           {
            "marker": {
             "colorbar": {
              "outlinewidth": 0,
              "ticks": ""
             }
            },
            "type": "scatterternary"
           }
          ],
          "surface": [
           {
            "colorbar": {
             "outlinewidth": 0,
             "ticks": ""
            },
            "colorscale": [
             [
              0,
              "#0d0887"
             ],
             [
              0.1111111111111111,
              "#46039f"
             ],
             [
              0.2222222222222222,
              "#7201a8"
             ],
             [
              0.3333333333333333,
              "#9c179e"
             ],
             [
              0.4444444444444444,
              "#bd3786"
             ],
             [
              0.5555555555555556,
              "#d8576b"
             ],
             [
              0.6666666666666666,
              "#ed7953"
             ],
             [
              0.7777777777777778,
              "#fb9f3a"
             ],
             [
              0.8888888888888888,
              "#fdca26"
             ],
             [
              1,
              "#f0f921"
             ]
            ],
            "type": "surface"
           }
          ],
          "table": [
           {
            "cells": {
             "fill": {
              "color": "#506784"
             },
             "line": {
              "color": "rgb(17,17,17)"
             }
            },
            "header": {
             "fill": {
              "color": "#2a3f5f"
             },
             "line": {
              "color": "rgb(17,17,17)"
             }
            },
            "type": "table"
           }
          ]
         },
         "layout": {
          "annotationdefaults": {
           "arrowcolor": "#f2f5fa",
           "arrowhead": 0,
           "arrowwidth": 1
          },
          "autotypenumbers": "strict",
          "coloraxis": {
           "colorbar": {
            "outlinewidth": 0,
            "ticks": ""
           }
          },
          "colorscale": {
           "diverging": [
            [
             0,
             "#8e0152"
            ],
            [
             0.1,
             "#c51b7d"
            ],
            [
             0.2,
             "#de77ae"
            ],
            [
             0.3,
             "#f1b6da"
            ],
            [
             0.4,
             "#fde0ef"
            ],
            [
             0.5,
             "#f7f7f7"
            ],
            [
             0.6,
             "#e6f5d0"
            ],
            [
             0.7,
             "#b8e186"
            ],
            [
             0.8,
             "#7fbc41"
            ],
            [
             0.9,
             "#4d9221"
            ],
            [
             1,
             "#276419"
            ]
           ],
           "sequential": [
            [
             0,
             "#0d0887"
            ],
            [
             0.1111111111111111,
             "#46039f"
            ],
            [
             0.2222222222222222,
             "#7201a8"
            ],
            [
             0.3333333333333333,
             "#9c179e"
            ],
            [
             0.4444444444444444,
             "#bd3786"
            ],
            [
             0.5555555555555556,
             "#d8576b"
            ],
            [
             0.6666666666666666,
             "#ed7953"
            ],
            [
             0.7777777777777778,
             "#fb9f3a"
            ],
            [
             0.8888888888888888,
             "#fdca26"
            ],
            [
             1,
             "#f0f921"
            ]
           ],
           "sequentialminus": [
            [
             0,
             "#0d0887"
            ],
            [
             0.1111111111111111,
             "#46039f"
            ],
            [
             0.2222222222222222,
             "#7201a8"
            ],
            [
             0.3333333333333333,
             "#9c179e"
            ],
            [
             0.4444444444444444,
             "#bd3786"
            ],
            [
             0.5555555555555556,
             "#d8576b"
            ],
            [
             0.6666666666666666,
             "#ed7953"
            ],
            [
             0.7777777777777778,
             "#fb9f3a"
            ],
            [
             0.8888888888888888,
             "#fdca26"
            ],
            [
             1,
             "#f0f921"
            ]
           ]
          },
          "colorway": [
           "#636efa",
           "#EF553B",
           "#00cc96",
           "#ab63fa",
           "#FFA15A",
           "#19d3f3",
           "#FF6692",
           "#B6E880",
           "#FF97FF",
           "#FECB52"
          ],
          "font": {
           "color": "#f2f5fa"
          },
          "geo": {
           "bgcolor": "rgb(17,17,17)",
           "lakecolor": "rgb(17,17,17)",
           "landcolor": "rgb(17,17,17)",
           "showlakes": true,
           "showland": true,
           "subunitcolor": "#506784"
          },
          "hoverlabel": {
           "align": "left"
          },
          "hovermode": "closest",
          "mapbox": {
           "style": "dark"
          },
          "paper_bgcolor": "rgb(17,17,17)",
          "plot_bgcolor": "rgb(17,17,17)",
          "polar": {
           "angularaxis": {
            "gridcolor": "#506784",
            "linecolor": "#506784",
            "ticks": ""
           },
           "bgcolor": "rgb(17,17,17)",
           "radialaxis": {
            "gridcolor": "#506784",
            "linecolor": "#506784",
            "ticks": ""
           }
          },
          "scene": {
           "xaxis": {
            "backgroundcolor": "rgb(17,17,17)",
            "gridcolor": "#506784",
            "gridwidth": 2,
            "linecolor": "#506784",
            "showbackground": true,
            "ticks": "",
            "zerolinecolor": "#C8D4E3"
           },
           "yaxis": {
            "backgroundcolor": "rgb(17,17,17)",
            "gridcolor": "#506784",
            "gridwidth": 2,
            "linecolor": "#506784",
            "showbackground": true,
            "ticks": "",
            "zerolinecolor": "#C8D4E3"
           },
           "zaxis": {
            "backgroundcolor": "rgb(17,17,17)",
            "gridcolor": "#506784",
            "gridwidth": 2,
            "linecolor": "#506784",
            "showbackground": true,
            "ticks": "",
            "zerolinecolor": "#C8D4E3"
           }
          },
          "shapedefaults": {
           "line": {
            "color": "#f2f5fa"
           }
          },
          "sliderdefaults": {
           "bgcolor": "#C8D4E3",
           "bordercolor": "rgb(17,17,17)",
           "borderwidth": 1,
           "tickwidth": 0
          },
          "ternary": {
           "aaxis": {
            "gridcolor": "#506784",
            "linecolor": "#506784",
            "ticks": ""
           },
           "baxis": {
            "gridcolor": "#506784",
            "linecolor": "#506784",
            "ticks": ""
           },
           "bgcolor": "rgb(17,17,17)",
           "caxis": {
            "gridcolor": "#506784",
            "linecolor": "#506784",
            "ticks": ""
           }
          },
          "title": {
           "x": 0.05
          },
          "updatemenudefaults": {
           "bgcolor": "#506784",
           "borderwidth": 0
          },
          "xaxis": {
           "automargin": true,
           "gridcolor": "#283442",
           "linecolor": "#506784",
           "ticks": "",
           "title": {
            "standoff": 15
           },
           "zerolinecolor": "#283442",
           "zerolinewidth": 2
          },
          "yaxis": {
           "automargin": true,
           "gridcolor": "#283442",
           "linecolor": "#506784",
           "ticks": "",
           "title": {
            "standoff": 15
           },
           "zerolinecolor": "#283442",
           "zerolinewidth": 2
          }
         }
        },
        "title": {
         "text": "Pick up hour=2023-11-03 00:00:00, location_id=48"
        },
        "xaxis": {
         "anchor": "y",
         "domain": [
          0,
          1
         ],
         "title": {
          "text": "x"
         }
        },
        "yaxis": {
         "anchor": "x",
         "domain": [
          0,
          1
         ],
         "title": {
          "text": "y"
         }
        }
       }
      }
     },
     "metadata": {},
     "output_type": "display_data"
    }
   ],
   "source": [
    "from src.plot import plot_one_sample\n",
    "\n",
    "plot_one_sample(\n",
    "    features=X_test,\n",
    "    targets = y_test,\n",
    "    example_id = 2900,\n",
    "    predictions=pd.Series(predictions)\n",
    ")"
   ]
  },
  {
   "cell_type": "code",
   "execution_count": 18,
   "metadata": {},
   "outputs": [
    {
     "data": {
      "application/vnd.plotly.v1+json": {
       "config": {
        "plotlyServerURL": "https://plot.ly"
       },
       "data": [
        {
         "hovertemplate": "x=%{x}<br>y=%{y}<extra></extra>",
         "legendgroup": "",
         "line": {
          "color": "#636efa",
          "dash": "solid"
         },
         "marker": {
          "symbol": "circle"
         },
         "mode": "lines+markers",
         "name": "",
         "orientation": "v",
         "showlegend": false,
         "type": "scatter",
         "x": [
          "2023-06-30T00:00:00",
          "2023-06-30T01:00:00",
          "2023-06-30T02:00:00",
          "2023-06-30T03:00:00",
          "2023-06-30T04:00:00",
          "2023-06-30T05:00:00",
          "2023-06-30T06:00:00",
          "2023-06-30T07:00:00",
          "2023-06-30T08:00:00",
          "2023-06-30T09:00:00",
          "2023-06-30T10:00:00",
          "2023-06-30T11:00:00",
          "2023-06-30T12:00:00",
          "2023-06-30T13:00:00",
          "2023-06-30T14:00:00",
          "2023-06-30T15:00:00",
          "2023-06-30T16:00:00",
          "2023-06-30T17:00:00",
          "2023-06-30T18:00:00",
          "2023-06-30T19:00:00",
          "2023-06-30T20:00:00",
          "2023-06-30T21:00:00",
          "2023-06-30T22:00:00",
          "2023-06-30T23:00:00",
          "2023-07-01T00:00:00",
          "2023-07-01T01:00:00",
          "2023-07-01T02:00:00",
          "2023-07-01T03:00:00",
          "2023-07-01T04:00:00",
          "2023-07-01T05:00:00",
          "2023-07-01T06:00:00",
          "2023-07-01T07:00:00",
          "2023-07-01T08:00:00",
          "2023-07-01T09:00:00",
          "2023-07-01T10:00:00",
          "2023-07-01T11:00:00",
          "2023-07-01T12:00:00",
          "2023-07-01T13:00:00",
          "2023-07-01T14:00:00",
          "2023-07-01T15:00:00",
          "2023-07-01T16:00:00",
          "2023-07-01T17:00:00",
          "2023-07-01T18:00:00",
          "2023-07-01T19:00:00",
          "2023-07-01T20:00:00",
          "2023-07-01T21:00:00",
          "2023-07-01T22:00:00",
          "2023-07-01T23:00:00",
          "2023-07-02T00:00:00",
          "2023-07-02T01:00:00",
          "2023-07-02T02:00:00",
          "2023-07-02T03:00:00",
          "2023-07-02T04:00:00",
          "2023-07-02T05:00:00",
          "2023-07-02T06:00:00",
          "2023-07-02T07:00:00",
          "2023-07-02T08:00:00",
          "2023-07-02T09:00:00",
          "2023-07-02T10:00:00",
          "2023-07-02T11:00:00",
          "2023-07-02T12:00:00",
          "2023-07-02T13:00:00",
          "2023-07-02T14:00:00",
          "2023-07-02T15:00:00",
          "2023-07-02T16:00:00",
          "2023-07-02T17:00:00",
          "2023-07-02T18:00:00",
          "2023-07-02T19:00:00",
          "2023-07-02T20:00:00",
          "2023-07-02T21:00:00",
          "2023-07-02T22:00:00",
          "2023-07-02T23:00:00",
          "2023-07-03T00:00:00",
          "2023-07-03T01:00:00",
          "2023-07-03T02:00:00",
          "2023-07-03T03:00:00",
          "2023-07-03T04:00:00",
          "2023-07-03T05:00:00",
          "2023-07-03T06:00:00",
          "2023-07-03T07:00:00",
          "2023-07-03T08:00:00",
          "2023-07-03T09:00:00",
          "2023-07-03T10:00:00",
          "2023-07-03T11:00:00",
          "2023-07-03T12:00:00",
          "2023-07-03T13:00:00",
          "2023-07-03T14:00:00",
          "2023-07-03T15:00:00",
          "2023-07-03T16:00:00",
          "2023-07-03T17:00:00",
          "2023-07-03T18:00:00",
          "2023-07-03T19:00:00",
          "2023-07-03T20:00:00",
          "2023-07-03T21:00:00",
          "2023-07-03T22:00:00",
          "2023-07-03T23:00:00",
          "2023-07-04T00:00:00",
          "2023-07-04T01:00:00",
          "2023-07-04T02:00:00",
          "2023-07-04T03:00:00",
          "2023-07-04T04:00:00",
          "2023-07-04T05:00:00",
          "2023-07-04T06:00:00",
          "2023-07-04T07:00:00",
          "2023-07-04T08:00:00",
          "2023-07-04T09:00:00",
          "2023-07-04T10:00:00",
          "2023-07-04T11:00:00",
          "2023-07-04T12:00:00",
          "2023-07-04T13:00:00",
          "2023-07-04T14:00:00",
          "2023-07-04T15:00:00",
          "2023-07-04T16:00:00",
          "2023-07-04T17:00:00",
          "2023-07-04T18:00:00",
          "2023-07-04T19:00:00",
          "2023-07-04T20:00:00",
          "2023-07-04T21:00:00",
          "2023-07-04T22:00:00",
          "2023-07-04T23:00:00",
          "2023-07-05T00:00:00",
          "2023-07-05T01:00:00",
          "2023-07-05T02:00:00",
          "2023-07-05T03:00:00",
          "2023-07-05T04:00:00",
          "2023-07-05T05:00:00",
          "2023-07-05T06:00:00",
          "2023-07-05T07:00:00",
          "2023-07-05T08:00:00",
          "2023-07-05T09:00:00",
          "2023-07-05T10:00:00",
          "2023-07-05T11:00:00",
          "2023-07-05T12:00:00",
          "2023-07-05T13:00:00",
          "2023-07-05T14:00:00",
          "2023-07-05T15:00:00",
          "2023-07-05T16:00:00",
          "2023-07-05T17:00:00",
          "2023-07-05T18:00:00",
          "2023-07-05T19:00:00",
          "2023-07-05T20:00:00",
          "2023-07-05T21:00:00",
          "2023-07-05T22:00:00",
          "2023-07-05T23:00:00",
          "2023-07-06T00:00:00",
          "2023-07-06T01:00:00",
          "2023-07-06T02:00:00",
          "2023-07-06T03:00:00",
          "2023-07-06T04:00:00",
          "2023-07-06T05:00:00",
          "2023-07-06T06:00:00",
          "2023-07-06T07:00:00",
          "2023-07-06T08:00:00",
          "2023-07-06T09:00:00",
          "2023-07-06T10:00:00",
          "2023-07-06T11:00:00",
          "2023-07-06T12:00:00",
          "2023-07-06T13:00:00",
          "2023-07-06T14:00:00",
          "2023-07-06T15:00:00",
          "2023-07-06T16:00:00",
          "2023-07-06T17:00:00",
          "2023-07-06T18:00:00",
          "2023-07-06T19:00:00",
          "2023-07-06T20:00:00",
          "2023-07-06T21:00:00",
          "2023-07-06T22:00:00",
          "2023-07-06T23:00:00",
          "2023-07-07T00:00:00",
          "2023-07-07T01:00:00",
          "2023-07-07T02:00:00",
          "2023-07-07T03:00:00",
          "2023-07-07T04:00:00",
          "2023-07-07T05:00:00",
          "2023-07-07T06:00:00",
          "2023-07-07T07:00:00",
          "2023-07-07T08:00:00",
          "2023-07-07T09:00:00",
          "2023-07-07T10:00:00",
          "2023-07-07T11:00:00",
          "2023-07-07T12:00:00",
          "2023-07-07T13:00:00",
          "2023-07-07T14:00:00",
          "2023-07-07T15:00:00",
          "2023-07-07T16:00:00",
          "2023-07-07T17:00:00",
          "2023-07-07T18:00:00",
          "2023-07-07T19:00:00",
          "2023-07-07T20:00:00",
          "2023-07-07T21:00:00",
          "2023-07-07T22:00:00",
          "2023-07-07T23:00:00",
          "2023-07-08T00:00:00",
          "2023-07-08T01:00:00",
          "2023-07-08T02:00:00",
          "2023-07-08T03:00:00",
          "2023-07-08T04:00:00",
          "2023-07-08T05:00:00",
          "2023-07-08T06:00:00",
          "2023-07-08T07:00:00",
          "2023-07-08T08:00:00",
          "2023-07-08T09:00:00",
          "2023-07-08T10:00:00",
          "2023-07-08T11:00:00",
          "2023-07-08T12:00:00",
          "2023-07-08T13:00:00",
          "2023-07-08T14:00:00",
          "2023-07-08T15:00:00",
          "2023-07-08T16:00:00",
          "2023-07-08T17:00:00",
          "2023-07-08T18:00:00",
          "2023-07-08T19:00:00",
          "2023-07-08T20:00:00",
          "2023-07-08T21:00:00",
          "2023-07-08T22:00:00",
          "2023-07-08T23:00:00",
          "2023-07-09T00:00:00",
          "2023-07-09T01:00:00",
          "2023-07-09T02:00:00",
          "2023-07-09T03:00:00",
          "2023-07-09T04:00:00",
          "2023-07-09T05:00:00",
          "2023-07-09T06:00:00",
          "2023-07-09T07:00:00",
          "2023-07-09T08:00:00",
          "2023-07-09T09:00:00",
          "2023-07-09T10:00:00",
          "2023-07-09T11:00:00",
          "2023-07-09T12:00:00",
          "2023-07-09T13:00:00",
          "2023-07-09T14:00:00",
          "2023-07-09T15:00:00",
          "2023-07-09T16:00:00",
          "2023-07-09T17:00:00",
          "2023-07-09T18:00:00",
          "2023-07-09T19:00:00",
          "2023-07-09T20:00:00",
          "2023-07-09T21:00:00",
          "2023-07-09T22:00:00",
          "2023-07-09T23:00:00",
          "2023-07-10T00:00:00",
          "2023-07-10T01:00:00",
          "2023-07-10T02:00:00",
          "2023-07-10T03:00:00",
          "2023-07-10T04:00:00",
          "2023-07-10T05:00:00",
          "2023-07-10T06:00:00",
          "2023-07-10T07:00:00",
          "2023-07-10T08:00:00",
          "2023-07-10T09:00:00",
          "2023-07-10T10:00:00",
          "2023-07-10T11:00:00",
          "2023-07-10T12:00:00",
          "2023-07-10T13:00:00",
          "2023-07-10T14:00:00",
          "2023-07-10T15:00:00",
          "2023-07-10T16:00:00",
          "2023-07-10T17:00:00",
          "2023-07-10T18:00:00",
          "2023-07-10T19:00:00",
          "2023-07-10T20:00:00",
          "2023-07-10T21:00:00",
          "2023-07-10T22:00:00",
          "2023-07-10T23:00:00",
          "2023-07-11T00:00:00",
          "2023-07-11T01:00:00",
          "2023-07-11T02:00:00",
          "2023-07-11T03:00:00",
          "2023-07-11T04:00:00",
          "2023-07-11T05:00:00",
          "2023-07-11T06:00:00",
          "2023-07-11T07:00:00",
          "2023-07-11T08:00:00",
          "2023-07-11T09:00:00",
          "2023-07-11T10:00:00",
          "2023-07-11T11:00:00",
          "2023-07-11T12:00:00",
          "2023-07-11T13:00:00",
          "2023-07-11T14:00:00",
          "2023-07-11T15:00:00",
          "2023-07-11T16:00:00",
          "2023-07-11T17:00:00",
          "2023-07-11T18:00:00",
          "2023-07-11T19:00:00",
          "2023-07-11T20:00:00",
          "2023-07-11T21:00:00",
          "2023-07-11T22:00:00",
          "2023-07-11T23:00:00",
          "2023-07-12T00:00:00",
          "2023-07-12T01:00:00",
          "2023-07-12T02:00:00",
          "2023-07-12T03:00:00",
          "2023-07-12T04:00:00",
          "2023-07-12T05:00:00",
          "2023-07-12T06:00:00",
          "2023-07-12T07:00:00",
          "2023-07-12T08:00:00",
          "2023-07-12T09:00:00",
          "2023-07-12T10:00:00",
          "2023-07-12T11:00:00",
          "2023-07-12T12:00:00",
          "2023-07-12T13:00:00",
          "2023-07-12T14:00:00",
          "2023-07-12T15:00:00",
          "2023-07-12T16:00:00",
          "2023-07-12T17:00:00",
          "2023-07-12T18:00:00",
          "2023-07-12T19:00:00",
          "2023-07-12T20:00:00",
          "2023-07-12T21:00:00",
          "2023-07-12T22:00:00",
          "2023-07-12T23:00:00",
          "2023-07-13T00:00:00",
          "2023-07-13T01:00:00",
          "2023-07-13T02:00:00",
          "2023-07-13T03:00:00",
          "2023-07-13T04:00:00",
          "2023-07-13T05:00:00",
          "2023-07-13T06:00:00",
          "2023-07-13T07:00:00",
          "2023-07-13T08:00:00",
          "2023-07-13T09:00:00",
          "2023-07-13T10:00:00",
          "2023-07-13T11:00:00",
          "2023-07-13T12:00:00",
          "2023-07-13T13:00:00",
          "2023-07-13T14:00:00",
          "2023-07-13T15:00:00",
          "2023-07-13T16:00:00",
          "2023-07-13T17:00:00",
          "2023-07-13T18:00:00",
          "2023-07-13T19:00:00",
          "2023-07-13T20:00:00",
          "2023-07-13T21:00:00",
          "2023-07-13T22:00:00",
          "2023-07-13T23:00:00",
          "2023-07-14T00:00:00",
          "2023-07-14T01:00:00",
          "2023-07-14T02:00:00",
          "2023-07-14T03:00:00",
          "2023-07-14T04:00:00",
          "2023-07-14T05:00:00",
          "2023-07-14T06:00:00",
          "2023-07-14T07:00:00",
          "2023-07-14T08:00:00",
          "2023-07-14T09:00:00",
          "2023-07-14T10:00:00",
          "2023-07-14T11:00:00",
          "2023-07-14T12:00:00",
          "2023-07-14T13:00:00",
          "2023-07-14T14:00:00",
          "2023-07-14T15:00:00",
          "2023-07-14T16:00:00",
          "2023-07-14T17:00:00",
          "2023-07-14T18:00:00",
          "2023-07-14T19:00:00",
          "2023-07-14T20:00:00",
          "2023-07-14T21:00:00",
          "2023-07-14T22:00:00",
          "2023-07-14T23:00:00",
          "2023-07-15T00:00:00",
          "2023-07-15T01:00:00",
          "2023-07-15T02:00:00",
          "2023-07-15T03:00:00",
          "2023-07-15T04:00:00",
          "2023-07-15T05:00:00",
          "2023-07-15T06:00:00",
          "2023-07-15T07:00:00",
          "2023-07-15T08:00:00",
          "2023-07-15T09:00:00",
          "2023-07-15T10:00:00",
          "2023-07-15T11:00:00",
          "2023-07-15T12:00:00",
          "2023-07-15T13:00:00",
          "2023-07-15T14:00:00",
          "2023-07-15T15:00:00",
          "2023-07-15T16:00:00",
          "2023-07-15T17:00:00",
          "2023-07-15T18:00:00",
          "2023-07-15T19:00:00",
          "2023-07-15T20:00:00",
          "2023-07-15T21:00:00",
          "2023-07-15T22:00:00",
          "2023-07-15T23:00:00",
          "2023-07-16T00:00:00",
          "2023-07-16T01:00:00",
          "2023-07-16T02:00:00",
          "2023-07-16T03:00:00",
          "2023-07-16T04:00:00",
          "2023-07-16T05:00:00",
          "2023-07-16T06:00:00",
          "2023-07-16T07:00:00",
          "2023-07-16T08:00:00",
          "2023-07-16T09:00:00",
          "2023-07-16T10:00:00",
          "2023-07-16T11:00:00",
          "2023-07-16T12:00:00",
          "2023-07-16T13:00:00",
          "2023-07-16T14:00:00",
          "2023-07-16T15:00:00",
          "2023-07-16T16:00:00",
          "2023-07-16T17:00:00",
          "2023-07-16T18:00:00",
          "2023-07-16T19:00:00",
          "2023-07-16T20:00:00",
          "2023-07-16T21:00:00",
          "2023-07-16T22:00:00",
          "2023-07-16T23:00:00",
          "2023-07-17T00:00:00",
          "2023-07-17T01:00:00",
          "2023-07-17T02:00:00",
          "2023-07-17T03:00:00",
          "2023-07-17T04:00:00",
          "2023-07-17T05:00:00",
          "2023-07-17T06:00:00",
          "2023-07-17T07:00:00",
          "2023-07-17T08:00:00",
          "2023-07-17T09:00:00",
          "2023-07-17T10:00:00",
          "2023-07-17T11:00:00",
          "2023-07-17T12:00:00",
          "2023-07-17T13:00:00",
          "2023-07-17T14:00:00",
          "2023-07-17T15:00:00",
          "2023-07-17T16:00:00",
          "2023-07-17T17:00:00",
          "2023-07-17T18:00:00",
          "2023-07-17T19:00:00",
          "2023-07-17T20:00:00",
          "2023-07-17T21:00:00",
          "2023-07-17T22:00:00",
          "2023-07-17T23:00:00",
          "2023-07-18T00:00:00",
          "2023-07-18T01:00:00",
          "2023-07-18T02:00:00",
          "2023-07-18T03:00:00",
          "2023-07-18T04:00:00",
          "2023-07-18T05:00:00",
          "2023-07-18T06:00:00",
          "2023-07-18T07:00:00",
          "2023-07-18T08:00:00",
          "2023-07-18T09:00:00",
          "2023-07-18T10:00:00",
          "2023-07-18T11:00:00",
          "2023-07-18T12:00:00",
          "2023-07-18T13:00:00",
          "2023-07-18T14:00:00",
          "2023-07-18T15:00:00",
          "2023-07-18T16:00:00",
          "2023-07-18T17:00:00",
          "2023-07-18T18:00:00",
          "2023-07-18T19:00:00",
          "2023-07-18T20:00:00",
          "2023-07-18T21:00:00",
          "2023-07-18T22:00:00",
          "2023-07-18T23:00:00",
          "2023-07-19T00:00:00",
          "2023-07-19T01:00:00",
          "2023-07-19T02:00:00",
          "2023-07-19T03:00:00",
          "2023-07-19T04:00:00",
          "2023-07-19T05:00:00",
          "2023-07-19T06:00:00",
          "2023-07-19T07:00:00",
          "2023-07-19T08:00:00",
          "2023-07-19T09:00:00",
          "2023-07-19T10:00:00",
          "2023-07-19T11:00:00",
          "2023-07-19T12:00:00",
          "2023-07-19T13:00:00",
          "2023-07-19T14:00:00",
          "2023-07-19T15:00:00",
          "2023-07-19T16:00:00",
          "2023-07-19T17:00:00",
          "2023-07-19T18:00:00",
          "2023-07-19T19:00:00",
          "2023-07-19T20:00:00",
          "2023-07-19T21:00:00",
          "2023-07-19T22:00:00",
          "2023-07-19T23:00:00",
          "2023-07-20T00:00:00",
          "2023-07-20T01:00:00",
          "2023-07-20T02:00:00",
          "2023-07-20T03:00:00",
          "2023-07-20T04:00:00",
          "2023-07-20T05:00:00",
          "2023-07-20T06:00:00",
          "2023-07-20T07:00:00",
          "2023-07-20T08:00:00",
          "2023-07-20T09:00:00",
          "2023-07-20T10:00:00",
          "2023-07-20T11:00:00",
          "2023-07-20T12:00:00",
          "2023-07-20T13:00:00",
          "2023-07-20T14:00:00",
          "2023-07-20T15:00:00",
          "2023-07-20T16:00:00",
          "2023-07-20T17:00:00",
          "2023-07-20T18:00:00",
          "2023-07-20T19:00:00",
          "2023-07-20T20:00:00",
          "2023-07-20T21:00:00",
          "2023-07-20T22:00:00",
          "2023-07-20T23:00:00",
          "2023-07-21T00:00:00",
          "2023-07-21T01:00:00",
          "2023-07-21T02:00:00",
          "2023-07-21T03:00:00",
          "2023-07-21T04:00:00",
          "2023-07-21T05:00:00",
          "2023-07-21T06:00:00",
          "2023-07-21T07:00:00",
          "2023-07-21T08:00:00",
          "2023-07-21T09:00:00",
          "2023-07-21T10:00:00",
          "2023-07-21T11:00:00",
          "2023-07-21T12:00:00",
          "2023-07-21T13:00:00",
          "2023-07-21T14:00:00",
          "2023-07-21T15:00:00",
          "2023-07-21T16:00:00",
          "2023-07-21T17:00:00",
          "2023-07-21T18:00:00",
          "2023-07-21T19:00:00",
          "2023-07-21T20:00:00",
          "2023-07-21T21:00:00",
          "2023-07-21T22:00:00",
          "2023-07-21T23:00:00",
          "2023-07-22T00:00:00",
          "2023-07-22T01:00:00",
          "2023-07-22T02:00:00",
          "2023-07-22T03:00:00",
          "2023-07-22T04:00:00",
          "2023-07-22T05:00:00",
          "2023-07-22T06:00:00",
          "2023-07-22T07:00:00",
          "2023-07-22T08:00:00",
          "2023-07-22T09:00:00",
          "2023-07-22T10:00:00",
          "2023-07-22T11:00:00",
          "2023-07-22T12:00:00",
          "2023-07-22T13:00:00",
          "2023-07-22T14:00:00",
          "2023-07-22T15:00:00",
          "2023-07-22T16:00:00",
          "2023-07-22T17:00:00",
          "2023-07-22T18:00:00",
          "2023-07-22T19:00:00",
          "2023-07-22T20:00:00",
          "2023-07-22T21:00:00",
          "2023-07-22T22:00:00",
          "2023-07-22T23:00:00",
          "2023-07-23T00:00:00",
          "2023-07-23T01:00:00",
          "2023-07-23T02:00:00",
          "2023-07-23T03:00:00",
          "2023-07-23T04:00:00",
          "2023-07-23T05:00:00",
          "2023-07-23T06:00:00",
          "2023-07-23T07:00:00",
          "2023-07-23T08:00:00",
          "2023-07-23T09:00:00",
          "2023-07-23T10:00:00",
          "2023-07-23T11:00:00",
          "2023-07-23T12:00:00",
          "2023-07-23T13:00:00",
          "2023-07-23T14:00:00",
          "2023-07-23T15:00:00",
          "2023-07-23T16:00:00",
          "2023-07-23T17:00:00",
          "2023-07-23T18:00:00",
          "2023-07-23T19:00:00",
          "2023-07-23T20:00:00",
          "2023-07-23T21:00:00",
          "2023-07-23T22:00:00",
          "2023-07-23T23:00:00",
          "2023-07-24T00:00:00",
          "2023-07-24T01:00:00",
          "2023-07-24T02:00:00",
          "2023-07-24T03:00:00",
          "2023-07-24T04:00:00",
          "2023-07-24T05:00:00",
          "2023-07-24T06:00:00",
          "2023-07-24T07:00:00",
          "2023-07-24T08:00:00",
          "2023-07-24T09:00:00",
          "2023-07-24T10:00:00",
          "2023-07-24T11:00:00",
          "2023-07-24T12:00:00",
          "2023-07-24T13:00:00",
          "2023-07-24T14:00:00",
          "2023-07-24T15:00:00",
          "2023-07-24T16:00:00",
          "2023-07-24T17:00:00",
          "2023-07-24T18:00:00",
          "2023-07-24T19:00:00",
          "2023-07-24T20:00:00",
          "2023-07-24T21:00:00",
          "2023-07-24T22:00:00",
          "2023-07-24T23:00:00",
          "2023-07-25T00:00:00",
          "2023-07-25T01:00:00",
          "2023-07-25T02:00:00",
          "2023-07-25T03:00:00",
          "2023-07-25T04:00:00",
          "2023-07-25T05:00:00",
          "2023-07-25T06:00:00",
          "2023-07-25T07:00:00",
          "2023-07-25T08:00:00",
          "2023-07-25T09:00:00",
          "2023-07-25T10:00:00",
          "2023-07-25T11:00:00",
          "2023-07-25T12:00:00",
          "2023-07-25T13:00:00",
          "2023-07-25T14:00:00",
          "2023-07-25T15:00:00",
          "2023-07-25T16:00:00",
          "2023-07-25T17:00:00",
          "2023-07-25T18:00:00",
          "2023-07-25T19:00:00",
          "2023-07-25T20:00:00",
          "2023-07-25T21:00:00",
          "2023-07-25T22:00:00",
          "2023-07-25T23:00:00",
          "2023-07-26T00:00:00",
          "2023-07-26T01:00:00",
          "2023-07-26T02:00:00",
          "2023-07-26T03:00:00",
          "2023-07-26T04:00:00",
          "2023-07-26T05:00:00",
          "2023-07-26T06:00:00",
          "2023-07-26T07:00:00",
          "2023-07-26T08:00:00",
          "2023-07-26T09:00:00",
          "2023-07-26T10:00:00",
          "2023-07-26T11:00:00",
          "2023-07-26T12:00:00",
          "2023-07-26T13:00:00",
          "2023-07-26T14:00:00",
          "2023-07-26T15:00:00",
          "2023-07-26T16:00:00",
          "2023-07-26T17:00:00",
          "2023-07-26T18:00:00",
          "2023-07-26T19:00:00",
          "2023-07-26T20:00:00",
          "2023-07-26T21:00:00",
          "2023-07-26T22:00:00",
          "2023-07-26T23:00:00",
          "2023-07-27T00:00:00",
          "2023-07-27T01:00:00",
          "2023-07-27T02:00:00",
          "2023-07-27T03:00:00",
          "2023-07-27T04:00:00",
          "2023-07-27T05:00:00",
          "2023-07-27T06:00:00",
          "2023-07-27T07:00:00",
          "2023-07-27T08:00:00",
          "2023-07-27T09:00:00",
          "2023-07-27T10:00:00",
          "2023-07-27T11:00:00",
          "2023-07-27T12:00:00",
          "2023-07-27T13:00:00",
          "2023-07-27T14:00:00",
          "2023-07-27T15:00:00",
          "2023-07-27T16:00:00",
          "2023-07-27T17:00:00",
          "2023-07-27T18:00:00",
          "2023-07-27T19:00:00",
          "2023-07-27T20:00:00",
          "2023-07-27T21:00:00",
          "2023-07-27T22:00:00",
          "2023-07-27T23:00:00",
          "2023-07-28T00:00:00"
         ],
         "xaxis": "x",
         "y": [
          2,
          1,
          0,
          1,
          0,
          1,
          0,
          0,
          1,
          1,
          0,
          0,
          1,
          1,
          4,
          3,
          0,
          4,
          3,
          1,
          1,
          0,
          4,
          6,
          2,
          1,
          2,
          0,
          0,
          0,
          0,
          0,
          0,
          1,
          0,
          3,
          0,
          3,
          2,
          4,
          4,
          5,
          3,
          4,
          1,
          1,
          2,
          5,
          1,
          0,
          0,
          2,
          0,
          0,
          0,
          0,
          0,
          0,
          2,
          1,
          1,
          3,
          4,
          1,
          1,
          5,
          2,
          0,
          1,
          1,
          2,
          2,
          0,
          1,
          0,
          0,
          0,
          0,
          1,
          1,
          0,
          0,
          1,
          0,
          1,
          2,
          5,
          2,
          3,
          3,
          3,
          1,
          3,
          6,
          1,
          4,
          0,
          0,
          0,
          0,
          0,
          0,
          0,
          0,
          1,
          0,
          0,
          3,
          1,
          2,
          0,
          5,
          2,
          3,
          0,
          5,
          1,
          2,
          5,
          3,
          1,
          1,
          0,
          0,
          0,
          0,
          1,
          0,
          1,
          2,
          1,
          0,
          1,
          1,
          3,
          1,
          0,
          0,
          0,
          1,
          3,
          2,
          3,
          2,
          0,
          2,
          0,
          0,
          0,
          0,
          0,
          0,
          0,
          0,
          0,
          0,
          3,
          1,
          1,
          3,
          1,
          1,
          2,
          2,
          3,
          0,
          2,
          1,
          0,
          0,
          0,
          1,
          0,
          0,
          1,
          1,
          2,
          1,
          0,
          0,
          2,
          0,
          4,
          3,
          5,
          1,
          0,
          1,
          2,
          4,
          1,
          2,
          0,
          0,
          1,
          0,
          0,
          0,
          0,
          0,
          0,
          1,
          0,
          3,
          5,
          3,
          2,
          2,
          2,
          5,
          4,
          2,
          6,
          2,
          3,
          4,
          1,
          0,
          1,
          0,
          0,
          0,
          0,
          0,
          0,
          2,
          1,
          1,
          3,
          1,
          3,
          2,
          2,
          1,
          2,
          0,
          1,
          2,
          2,
          2,
          0,
          0,
          0,
          0,
          1,
          0,
          0,
          0,
          1,
          0,
          0,
          0,
          0,
          1,
          2,
          3,
          2,
          0,
          4,
          2,
          0,
          2,
          0,
          0,
          0,
          0,
          0,
          0,
          1,
          0,
          3,
          0,
          0,
          1,
          0,
          0,
          1,
          0,
          2,
          1,
          0,
          0,
          1,
          3,
          5,
          3,
          2,
          0,
          1,
          0,
          0,
          0,
          1,
          0,
          2,
          0,
          2,
          1,
          1,
          1,
          1,
          1,
          1,
          2,
          2,
          1,
          2,
          3,
          0,
          2,
          0,
          4,
          0,
          0,
          0,
          0,
          0,
          0,
          0,
          1,
          5,
          2,
          0,
          1,
          1,
          0,
          2,
          0,
          1,
          8,
          3,
          1,
          4,
          2,
          4,
          2,
          1,
          0,
          0,
          0,
          1,
          0,
          0,
          0,
          0,
          0,
          0,
          3,
          0,
          3,
          1,
          1,
          1,
          0,
          2,
          6,
          2,
          2,
          2,
          10,
          1,
          1,
          0,
          1,
          0,
          0,
          0,
          1,
          0,
          0,
          0,
          2,
          5,
          6,
          2,
          3,
          2,
          5,
          6,
          4,
          2,
          1,
          1,
          3,
          3,
          2,
          0,
          0,
          0,
          0,
          0,
          0,
          0,
          0,
          0,
          1,
          3,
          0,
          0,
          2,
          3,
          5,
          1,
          0,
          2,
          1,
          1,
          1,
          0,
          0,
          1,
          0,
          0,
          0,
          0,
          0,
          0,
          0,
          1,
          2,
          3,
          1,
          1,
          3,
          0,
          0,
          1,
          1,
          2,
          3,
          2,
          2,
          0,
          0,
          0,
          0,
          0,
          0,
          1,
          1,
          2,
          0,
          0,
          1,
          0,
          2,
          2,
          0,
          0,
          1,
          1,
          1,
          3,
          3,
          4,
          0,
          1,
          0,
          0,
          0,
          0,
          0,
          1,
          2,
          3,
          0,
          0,
          1,
          0,
          1,
          0,
          1,
          0,
          2,
          4,
          3,
          4,
          1,
          2,
          2,
          0,
          0,
          0,
          0,
          0,
          0,
          1,
          1,
          1,
          1,
          1,
          0,
          1,
          0,
          2,
          2,
          0,
          3,
          3,
          2,
          2,
          4,
          7,
          2,
          4,
          0,
          0,
          0,
          0,
          0,
          0,
          0,
          1,
          0,
          0,
          0,
          2,
          0,
          1,
          2,
          1,
          2,
          1,
          2,
          3,
          0,
          2,
          5,
          1,
          3,
          1,
          1,
          0,
          0,
          0,
          0,
          0,
          0,
          0,
          0,
          2,
          3,
          5,
          8,
          3,
          7,
          5,
          2,
          0,
          9,
          0,
          5,
          3,
          1,
          0,
          0,
          0,
          0,
          0,
          0,
          0,
          0,
          3,
          1,
          0,
          5,
          2,
          4,
          5,
          1,
          5,
          3,
          5,
          3,
          5,
          1,
          1,
          0,
          0,
          0,
          0,
          0,
          0,
          0,
          2,
          3,
          0,
          1,
          1,
          1,
          1,
          3,
          2,
          4,
          4,
          2,
          0,
          3,
          1,
          0,
          0,
          0,
          0,
          0,
          0,
          0,
          1,
          1,
          3,
          0,
          0,
          0,
          1,
          3,
          1,
          1,
          3,
          5,
          0,
          2,
          0,
          1,
          3,
          1,
          0,
          0,
          0,
          0,
          0,
          0,
          0,
          1,
          1,
          0,
          1,
          1,
          1,
          0,
          1,
          1,
          0,
          7,
          1,
          2,
          1,
          3,
          4,
          0,
          0,
          0,
          0,
          0,
          1,
          0,
          0,
          0,
          1,
          1,
          1,
          0,
          3,
          1,
          0,
          1,
          1,
          2,
          3,
          3,
          2,
          1,
          2,
          1,
          1
         ],
         "yaxis": "y"
        },
        {
         "line": {
          "color": "green"
         },
         "marker": {
          "size": 10
         },
         "mode": "markers",
         "name": "actual value",
         "type": "scatter",
         "x": [
          "2023-07-28T00:00:00"
         ],
         "y": [
          1
         ]
        },
        {
         "line": {
          "color": "red"
         },
         "marker": {
          "size": 15,
          "symbol": "x"
         },
         "mode": "markers",
         "name": "prediction",
         "type": "scatter",
         "x": [
          "2023-07-28T00:00:00"
         ],
         "y": [
          0.8426906897212814
         ]
        }
       ],
       "layout": {
        "legend": {
         "tracegroupgap": 0
        },
        "template": {
         "data": {
          "bar": [
           {
            "error_x": {
             "color": "#f2f5fa"
            },
            "error_y": {
             "color": "#f2f5fa"
            },
            "marker": {
             "line": {
              "color": "rgb(17,17,17)",
              "width": 0.5
             },
             "pattern": {
              "fillmode": "overlay",
              "size": 10,
              "solidity": 0.2
             }
            },
            "type": "bar"
           }
          ],
          "barpolar": [
           {
            "marker": {
             "line": {
              "color": "rgb(17,17,17)",
              "width": 0.5
             },
             "pattern": {
              "fillmode": "overlay",
              "size": 10,
              "solidity": 0.2
             }
            },
            "type": "barpolar"
           }
          ],
          "carpet": [
           {
            "aaxis": {
             "endlinecolor": "#A2B1C6",
             "gridcolor": "#506784",
             "linecolor": "#506784",
             "minorgridcolor": "#506784",
             "startlinecolor": "#A2B1C6"
            },
            "baxis": {
             "endlinecolor": "#A2B1C6",
             "gridcolor": "#506784",
             "linecolor": "#506784",
             "minorgridcolor": "#506784",
             "startlinecolor": "#A2B1C6"
            },
            "type": "carpet"
           }
          ],
          "choropleth": [
           {
            "colorbar": {
             "outlinewidth": 0,
             "ticks": ""
            },
            "type": "choropleth"
           }
          ],
          "contour": [
           {
            "colorbar": {
             "outlinewidth": 0,
             "ticks": ""
            },
            "colorscale": [
             [
              0,
              "#0d0887"
             ],
             [
              0.1111111111111111,
              "#46039f"
             ],
             [
              0.2222222222222222,
              "#7201a8"
             ],
             [
              0.3333333333333333,
              "#9c179e"
             ],
             [
              0.4444444444444444,
              "#bd3786"
             ],
             [
              0.5555555555555556,
              "#d8576b"
             ],
             [
              0.6666666666666666,
              "#ed7953"
             ],
             [
              0.7777777777777778,
              "#fb9f3a"
             ],
             [
              0.8888888888888888,
              "#fdca26"
             ],
             [
              1,
              "#f0f921"
             ]
            ],
            "type": "contour"
           }
          ],
          "contourcarpet": [
           {
            "colorbar": {
             "outlinewidth": 0,
             "ticks": ""
            },
            "type": "contourcarpet"
           }
          ],
          "heatmap": [
           {
            "colorbar": {
             "outlinewidth": 0,
             "ticks": ""
            },
            "colorscale": [
             [
              0,
              "#0d0887"
             ],
             [
              0.1111111111111111,
              "#46039f"
             ],
             [
              0.2222222222222222,
              "#7201a8"
             ],
             [
              0.3333333333333333,
              "#9c179e"
             ],
             [
              0.4444444444444444,
              "#bd3786"
             ],
             [
              0.5555555555555556,
              "#d8576b"
             ],
             [
              0.6666666666666666,
              "#ed7953"
             ],
             [
              0.7777777777777778,
              "#fb9f3a"
             ],
             [
              0.8888888888888888,
              "#fdca26"
             ],
             [
              1,
              "#f0f921"
             ]
            ],
            "type": "heatmap"
           }
          ],
          "heatmapgl": [
           {
            "colorbar": {
             "outlinewidth": 0,
             "ticks": ""
            },
            "colorscale": [
             [
              0,
              "#0d0887"
             ],
             [
              0.1111111111111111,
              "#46039f"
             ],
             [
              0.2222222222222222,
              "#7201a8"
             ],
             [
              0.3333333333333333,
              "#9c179e"
             ],
             [
              0.4444444444444444,
              "#bd3786"
             ],
             [
              0.5555555555555556,
              "#d8576b"
             ],
             [
              0.6666666666666666,
              "#ed7953"
             ],
             [
              0.7777777777777778,
              "#fb9f3a"
             ],
             [
              0.8888888888888888,
              "#fdca26"
             ],
             [
              1,
              "#f0f921"
             ]
            ],
            "type": "heatmapgl"
           }
          ],
          "histogram": [
           {
            "marker": {
             "pattern": {
              "fillmode": "overlay",
              "size": 10,
              "solidity": 0.2
             }
            },
            "type": "histogram"
           }
          ],
          "histogram2d": [
           {
            "colorbar": {
             "outlinewidth": 0,
             "ticks": ""
            },
            "colorscale": [
             [
              0,
              "#0d0887"
             ],
             [
              0.1111111111111111,
              "#46039f"
             ],
             [
              0.2222222222222222,
              "#7201a8"
             ],
             [
              0.3333333333333333,
              "#9c179e"
             ],
             [
              0.4444444444444444,
              "#bd3786"
             ],
             [
              0.5555555555555556,
              "#d8576b"
             ],
             [
              0.6666666666666666,
              "#ed7953"
             ],
             [
              0.7777777777777778,
              "#fb9f3a"
             ],
             [
              0.8888888888888888,
              "#fdca26"
             ],
             [
              1,
              "#f0f921"
             ]
            ],
            "type": "histogram2d"
           }
          ],
          "histogram2dcontour": [
           {
            "colorbar": {
             "outlinewidth": 0,
             "ticks": ""
            },
            "colorscale": [
             [
              0,
              "#0d0887"
             ],
             [
              0.1111111111111111,
              "#46039f"
             ],
             [
              0.2222222222222222,
              "#7201a8"
             ],
             [
              0.3333333333333333,
              "#9c179e"
             ],
             [
              0.4444444444444444,
              "#bd3786"
             ],
             [
              0.5555555555555556,
              "#d8576b"
             ],
             [
              0.6666666666666666,
              "#ed7953"
             ],
             [
              0.7777777777777778,
              "#fb9f3a"
             ],
             [
              0.8888888888888888,
              "#fdca26"
             ],
             [
              1,
              "#f0f921"
             ]
            ],
            "type": "histogram2dcontour"
           }
          ],
          "mesh3d": [
           {
            "colorbar": {
             "outlinewidth": 0,
             "ticks": ""
            },
            "type": "mesh3d"
           }
          ],
          "parcoords": [
           {
            "line": {
             "colorbar": {
              "outlinewidth": 0,
              "ticks": ""
             }
            },
            "type": "parcoords"
           }
          ],
          "pie": [
           {
            "automargin": true,
            "type": "pie"
           }
          ],
          "scatter": [
           {
            "marker": {
             "line": {
              "color": "#283442"
             }
            },
            "type": "scatter"
           }
          ],
          "scatter3d": [
           {
            "line": {
             "colorbar": {
              "outlinewidth": 0,
              "ticks": ""
             }
            },
            "marker": {
             "colorbar": {
              "outlinewidth": 0,
              "ticks": ""
             }
            },
            "type": "scatter3d"
           }
          ],
          "scattercarpet": [
           {
            "marker": {
             "colorbar": {
              "outlinewidth": 0,
              "ticks": ""
             }
            },
            "type": "scattercarpet"
           }
          ],
          "scattergeo": [
           {
            "marker": {
             "colorbar": {
              "outlinewidth": 0,
              "ticks": ""
             }
            },
            "type": "scattergeo"
           }
          ],
          "scattergl": [
           {
            "marker": {
             "line": {
              "color": "#283442"
             }
            },
            "type": "scattergl"
           }
          ],
          "scattermapbox": [
           {
            "marker": {
             "colorbar": {
              "outlinewidth": 0,
              "ticks": ""
             }
            },
            "type": "scattermapbox"
           }
          ],
          "scatterpolar": [
           {
            "marker": {
             "colorbar": {
              "outlinewidth": 0,
              "ticks": ""
             }
            },
            "type": "scatterpolar"
           }
          ],
          "scatterpolargl": [
           {
            "marker": {
             "colorbar": {
              "outlinewidth": 0,
              "ticks": ""
             }
            },
            "type": "scatterpolargl"
           }
          ],
          "scatterternary": [
           {
            "marker": {
             "colorbar": {
              "outlinewidth": 0,
              "ticks": ""
             }
            },
            "type": "scatterternary"
           }
          ],
          "surface": [
           {
            "colorbar": {
             "outlinewidth": 0,
             "ticks": ""
            },
            "colorscale": [
             [
              0,
              "#0d0887"
             ],
             [
              0.1111111111111111,
              "#46039f"
             ],
             [
              0.2222222222222222,
              "#7201a8"
             ],
             [
              0.3333333333333333,
              "#9c179e"
             ],
             [
              0.4444444444444444,
              "#bd3786"
             ],
             [
              0.5555555555555556,
              "#d8576b"
             ],
             [
              0.6666666666666666,
              "#ed7953"
             ],
             [
              0.7777777777777778,
              "#fb9f3a"
             ],
             [
              0.8888888888888888,
              "#fdca26"
             ],
             [
              1,
              "#f0f921"
             ]
            ],
            "type": "surface"
           }
          ],
          "table": [
           {
            "cells": {
             "fill": {
              "color": "#506784"
             },
             "line": {
              "color": "rgb(17,17,17)"
             }
            },
            "header": {
             "fill": {
              "color": "#2a3f5f"
             },
             "line": {
              "color": "rgb(17,17,17)"
             }
            },
            "type": "table"
           }
          ]
         },
         "layout": {
          "annotationdefaults": {
           "arrowcolor": "#f2f5fa",
           "arrowhead": 0,
           "arrowwidth": 1
          },
          "autotypenumbers": "strict",
          "coloraxis": {
           "colorbar": {
            "outlinewidth": 0,
            "ticks": ""
           }
          },
          "colorscale": {
           "diverging": [
            [
             0,
             "#8e0152"
            ],
            [
             0.1,
             "#c51b7d"
            ],
            [
             0.2,
             "#de77ae"
            ],
            [
             0.3,
             "#f1b6da"
            ],
            [
             0.4,
             "#fde0ef"
            ],
            [
             0.5,
             "#f7f7f7"
            ],
            [
             0.6,
             "#e6f5d0"
            ],
            [
             0.7,
             "#b8e186"
            ],
            [
             0.8,
             "#7fbc41"
            ],
            [
             0.9,
             "#4d9221"
            ],
            [
             1,
             "#276419"
            ]
           ],
           "sequential": [
            [
             0,
             "#0d0887"
            ],
            [
             0.1111111111111111,
             "#46039f"
            ],
            [
             0.2222222222222222,
             "#7201a8"
            ],
            [
             0.3333333333333333,
             "#9c179e"
            ],
            [
             0.4444444444444444,
             "#bd3786"
            ],
            [
             0.5555555555555556,
             "#d8576b"
            ],
            [
             0.6666666666666666,
             "#ed7953"
            ],
            [
             0.7777777777777778,
             "#fb9f3a"
            ],
            [
             0.8888888888888888,
             "#fdca26"
            ],
            [
             1,
             "#f0f921"
            ]
           ],
           "sequentialminus": [
            [
             0,
             "#0d0887"
            ],
            [
             0.1111111111111111,
             "#46039f"
            ],
            [
             0.2222222222222222,
             "#7201a8"
            ],
            [
             0.3333333333333333,
             "#9c179e"
            ],
            [
             0.4444444444444444,
             "#bd3786"
            ],
            [
             0.5555555555555556,
             "#d8576b"
            ],
            [
             0.6666666666666666,
             "#ed7953"
            ],
            [
             0.7777777777777778,
             "#fb9f3a"
            ],
            [
             0.8888888888888888,
             "#fdca26"
            ],
            [
             1,
             "#f0f921"
            ]
           ]
          },
          "colorway": [
           "#636efa",
           "#EF553B",
           "#00cc96",
           "#ab63fa",
           "#FFA15A",
           "#19d3f3",
           "#FF6692",
           "#B6E880",
           "#FF97FF",
           "#FECB52"
          ],
          "font": {
           "color": "#f2f5fa"
          },
          "geo": {
           "bgcolor": "rgb(17,17,17)",
           "lakecolor": "rgb(17,17,17)",
           "landcolor": "rgb(17,17,17)",
           "showlakes": true,
           "showland": true,
           "subunitcolor": "#506784"
          },
          "hoverlabel": {
           "align": "left"
          },
          "hovermode": "closest",
          "mapbox": {
           "style": "dark"
          },
          "paper_bgcolor": "rgb(17,17,17)",
          "plot_bgcolor": "rgb(17,17,17)",
          "polar": {
           "angularaxis": {
            "gridcolor": "#506784",
            "linecolor": "#506784",
            "ticks": ""
           },
           "bgcolor": "rgb(17,17,17)",
           "radialaxis": {
            "gridcolor": "#506784",
            "linecolor": "#506784",
            "ticks": ""
           }
          },
          "scene": {
           "xaxis": {
            "backgroundcolor": "rgb(17,17,17)",
            "gridcolor": "#506784",
            "gridwidth": 2,
            "linecolor": "#506784",
            "showbackground": true,
            "ticks": "",
            "zerolinecolor": "#C8D4E3"
           },
           "yaxis": {
            "backgroundcolor": "rgb(17,17,17)",
            "gridcolor": "#506784",
            "gridwidth": 2,
            "linecolor": "#506784",
            "showbackground": true,
            "ticks": "",
            "zerolinecolor": "#C8D4E3"
           },
           "zaxis": {
            "backgroundcolor": "rgb(17,17,17)",
            "gridcolor": "#506784",
            "gridwidth": 2,
            "linecolor": "#506784",
            "showbackground": true,
            "ticks": "",
            "zerolinecolor": "#C8D4E3"
           }
          },
          "shapedefaults": {
           "line": {
            "color": "#f2f5fa"
           }
          },
          "sliderdefaults": {
           "bgcolor": "#C8D4E3",
           "bordercolor": "rgb(17,17,17)",
           "borderwidth": 1,
           "tickwidth": 0
          },
          "ternary": {
           "aaxis": {
            "gridcolor": "#506784",
            "linecolor": "#506784",
            "ticks": ""
           },
           "baxis": {
            "gridcolor": "#506784",
            "linecolor": "#506784",
            "ticks": ""
           },
           "bgcolor": "rgb(17,17,17)",
           "caxis": {
            "gridcolor": "#506784",
            "linecolor": "#506784",
            "ticks": ""
           }
          },
          "title": {
           "x": 0.05
          },
          "updatemenudefaults": {
           "bgcolor": "#506784",
           "borderwidth": 0
          },
          "xaxis": {
           "automargin": true,
           "gridcolor": "#283442",
           "linecolor": "#506784",
           "ticks": "",
           "title": {
            "standoff": 15
           },
           "zerolinecolor": "#283442",
           "zerolinewidth": 2
          },
          "yaxis": {
           "automargin": true,
           "gridcolor": "#283442",
           "linecolor": "#506784",
           "ticks": "",
           "title": {
            "standoff": 15
           },
           "zerolinecolor": "#283442",
           "zerolinewidth": 2
          }
         }
        },
        "title": {
         "text": "Pick up hour=2023-07-28 00:00:00, location_id=66"
        },
        "xaxis": {
         "anchor": "y",
         "domain": [
          0,
          1
         ],
         "title": {
          "text": "x"
         }
        },
        "yaxis": {
         "anchor": "x",
         "domain": [
          0,
          1
         ],
         "title": {
          "text": "y"
         }
        }
       }
      }
     },
     "metadata": {},
     "output_type": "display_data"
    }
   ],
   "source": [
    "plot_one_sample(\n",
    "    features=X_test,\n",
    "    targets = y_test,\n",
    "    example_id = 3900,\n",
    "    predictions=pd.Series(predictions)\n",
    ")"
   ]
  },
  {
   "cell_type": "code",
   "execution_count": null,
   "metadata": {},
   "outputs": [],
   "source": []
  }
 ],
 "metadata": {
  "kernelspec": {
   "display_name": ".venv",
   "language": "python",
   "name": "python3"
  },
  "language_info": {
   "codemirror_mode": {
    "name": "ipython",
    "version": 3
   },
   "file_extension": ".py",
   "mimetype": "text/x-python",
   "name": "python",
   "nbconvert_exporter": "python",
   "pygments_lexer": "ipython3",
   "version": "3.9.0"
  }
 },
 "nbformat": 4,
 "nbformat_minor": 2
}
